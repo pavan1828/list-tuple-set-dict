{
 "cells": [
  {
   "cell_type": "markdown",
   "id": "d6c654c9",
   "metadata": {},
   "source": [
    "# list :"
   ]
  },
  {
   "cell_type": "markdown",
   "id": "96826b67",
   "metadata": {},
   "source": [
    "<b>properties:<b>"
   ]
  },
  {
   "cell_type": "markdown",
   "id": "b29557e0",
   "metadata": {},
   "source": [
    "* list is one of the predifined class and treated as list data type\n",
    "* The purpose of list data type is that \"To Store Multiple Values of Same Type or Different Type or Both the types in single       object with Unique and Duplicate.\n",
    "* The Data in List object Stored / Organized within Square Brackets [ ] and They must be separated by Comma.\n",
    "* An object of list maintains Insertion Order.\n",
    "* On the object of list, we can perform Both Indexing and Slicing Operations\n",
    "* An an object of List belongs to Mutable bcoz Updation done at Same Address.\n",
    "* In Python Programming, we have Two Types of List objects. They are\n",
    "\t\ta) Empty List\n",
    "\t\tb) Non-Empty List"
   ]
  },
  {
   "cell_type": "markdown",
   "id": "07e5932f",
   "metadata": {},
   "source": [
    "<b>a) Empty List<b>\n",
    "\n",
    "* An Empty List is one, which does not contain any Elements and whose Length is 0 \n",
    "* Syntax:         varname=[ ]\n",
    "\t\t\t\t(OR)\n",
    "\t\t\tvarname=list()\t\t"
   ]
  },
  {
   "cell_type": "markdown",
   "id": "98b38963",
   "metadata": {},
   "source": [
    "<b>b) Non-Empty List<b>\n",
    "\n",
    "* A Non-Empty List is one, which contains  Elements and whose Length is >0 \n",
    "* Syntax:         varname=[Val1,Val2....Val-n]\n",
    "\t\t\t\t(OR)\n",
    "\t\t\tvarname=list(object)"
   ]
  },
  {
   "cell_type": "code",
   "execution_count": 4,
   "id": "182185f7",
   "metadata": {},
   "outputs": [
    {
     "name": "stdout",
     "output_type": "stream",
     "text": [
      "[10, 'python', 10.2, True] <class 'list'>\n"
     ]
    }
   ],
   "source": [
    "l1=[10,\"python\",10.2,True]\n",
    "print(l1,type(l1))"
   ]
  },
  {
   "cell_type": "code",
   "execution_count": 5,
   "id": "c3be83a5",
   "metadata": {},
   "outputs": [
    {
     "data": {
      "text/plain": [
       "10"
      ]
     },
     "execution_count": 5,
     "metadata": {},
     "output_type": "execute_result"
    }
   ],
   "source": [
    "l1[0]"
   ]
  },
  {
   "cell_type": "code",
   "execution_count": 6,
   "id": "d46a6757",
   "metadata": {},
   "outputs": [
    {
     "data": {
      "text/plain": [
       "True"
      ]
     },
     "execution_count": 6,
     "metadata": {},
     "output_type": "execute_result"
    }
   ],
   "source": [
    "l1[-1]"
   ]
  },
  {
   "cell_type": "code",
   "execution_count": 7,
   "id": "b76beee8",
   "metadata": {},
   "outputs": [
    {
     "data": {
      "text/plain": [
       "[True, 10.2, 'python', 10]"
      ]
     },
     "execution_count": 7,
     "metadata": {},
     "output_type": "execute_result"
    }
   ],
   "source": [
    "l1[::-1]"
   ]
  },
  {
   "cell_type": "code",
   "execution_count": 8,
   "id": "bfdd46b0",
   "metadata": {},
   "outputs": [
    {
     "data": {
      "text/plain": [
       "['python', 10.2, True]"
      ]
     },
     "execution_count": 8,
     "metadata": {},
     "output_type": "execute_result"
    }
   ],
   "source": [
    "l1[1:5]"
   ]
  },
  {
   "cell_type": "code",
   "execution_count": 10,
   "id": "8fa6b46a",
   "metadata": {},
   "outputs": [
    {
     "data": {
      "text/plain": [
       "[100, 'python', 10.2, True]"
      ]
     },
     "execution_count": 10,
     "metadata": {},
     "output_type": "execute_result"
    }
   ],
   "source": [
    "l1[0]=100 # Updating Single value of List with Indexing\n",
    "l1"
   ]
  },
  {
   "cell_type": "code",
   "execution_count": 11,
   "id": "8f9620d5",
   "metadata": {},
   "outputs": [
    {
     "name": "stdout",
     "output_type": "stream",
     "text": [
      "[100, 'python', 10.2, 'Dsc', 1.2] <class 'list'> 2245250353344\n"
     ]
    }
   ],
   "source": [
    "l1[3:5]=[\"Dsc\",1.2]  # Updating Multiple value of List with Slicing\n",
    "print(l1,type(l1),id(l1))"
   ]
  },
  {
   "cell_type": "code",
   "execution_count": 12,
   "id": "e9634a2d",
   "metadata": {},
   "outputs": [
    {
     "name": "stdout",
     "output_type": "stream",
     "text": [
      "[1000, 'VINAY', 'IMPO', 0.0, 'NOColl'] <class 'list'> 2245250353344\n"
     ]
    }
   ],
   "source": [
    "l1[::]=[1000,\"VINAY\",\"IMPO\",0.0,\"NOColl\"]\n",
    "print(l1,type(l1),id(l1))"
   ]
  },
  {
   "cell_type": "code",
   "execution_count": 13,
   "id": "3e9490c7",
   "metadata": {},
   "outputs": [
    {
     "data": {
      "text/plain": [
       "[1000, 'VINAY', 'IMPO', 0.0, 'NOColl']"
      ]
     },
     "execution_count": 13,
     "metadata": {},
     "output_type": "execute_result"
    }
   ],
   "source": [
    "l1"
   ]
  },
  {
   "cell_type": "code",
   "execution_count": 14,
   "id": "09eedc62",
   "metadata": {},
   "outputs": [
    {
     "data": {
      "text/plain": [
       "5"
      ]
     },
     "execution_count": 14,
     "metadata": {},
     "output_type": "execute_result"
    }
   ],
   "source": [
    "len(l1)"
   ]
  },
  {
   "cell_type": "code",
   "execution_count": 15,
   "id": "07495313",
   "metadata": {},
   "outputs": [
    {
     "name": "stdout",
     "output_type": "stream",
     "text": [
      "[] <class 'list'>\n"
     ]
    }
   ],
   "source": [
    "l2=[]\n",
    "print(l2,type(l2))"
   ]
  },
  {
   "cell_type": "code",
   "execution_count": 16,
   "id": "f96ac843",
   "metadata": {},
   "outputs": [
    {
     "name": "stdout",
     "output_type": "stream",
     "text": [
      "[] <class 'list'>\n"
     ]
    }
   ],
   "source": [
    "l3=list()\n",
    "print(l3,type(l3))"
   ]
  },
  {
   "cell_type": "code",
   "execution_count": 17,
   "id": "90a249de",
   "metadata": {},
   "outputs": [
    {
     "name": "stdout",
     "output_type": "stream",
     "text": [
      "python\n"
     ]
    }
   ],
   "source": [
    "s=\"python\"\n",
    "print(s)\n"
   ]
  },
  {
   "cell_type": "code",
   "execution_count": 18,
   "id": "9b29fe8a",
   "metadata": {},
   "outputs": [
    {
     "name": "stdout",
     "output_type": "stream",
     "text": [
      "['p', 'y', 't', 'h', 'o', 'n'] <class 'list'>\n"
     ]
    }
   ],
   "source": [
    "l1=list(s)\n",
    "print(l1,type(l1))"
   ]
  },
  {
   "cell_type": "code",
   "execution_count": 20,
   "id": "3118ad74",
   "metadata": {},
   "outputs": [
    {
     "name": "stdout",
     "output_type": "stream",
     "text": [
      "['python'] <class 'list'>\n"
     ]
    }
   ],
   "source": [
    "l2=list([s])\n",
    "print(l2,type(l2))"
   ]
  },
  {
   "cell_type": "markdown",
   "id": "fa60af60",
   "metadata": {},
   "source": [
    "* We know that on the object of List , we can perform Both Indexing and Slicing Operations.\n",
    "* Along with Indexing and Slicing Operations, we can also Perform Various Operations by using Pre-defined Functions present in list object. They are\n"
   ]
  },
  {
   "cell_type": "markdown",
   "id": "3bc62c86",
   "metadata": {},
   "source": [
    "**1. append()**\n",
    "* syntax:listobj.append(value)\n",
    "* This function is used for appending (adding at end) single values to list."
   ]
  },
  {
   "cell_type": "code",
   "execution_count": 28,
   "id": "48ffdc7a",
   "metadata": {},
   "outputs": [
    {
     "name": "stdout",
     "output_type": "stream",
     "text": [
      "[10, 'pavan'] <class 'list'>\n"
     ]
    }
   ],
   "source": [
    "a1=[10,'pavan']\n",
    "print(a1,type(a1))"
   ]
  },
  {
   "cell_type": "code",
   "execution_count": 29,
   "id": "e853ddce",
   "metadata": {},
   "outputs": [
    {
     "data": {
      "text/plain": [
       "[10, 'pavan', 20]"
      ]
     },
     "execution_count": 29,
     "metadata": {},
     "output_type": "execute_result"
    }
   ],
   "source": [
    "a1.append(20)\n",
    "a1"
   ]
  },
  {
   "cell_type": "code",
   "execution_count": 30,
   "id": "edb05af3",
   "metadata": {},
   "outputs": [
    {
     "name": "stdout",
     "output_type": "stream",
     "text": [
      "[] <class 'list'>\n"
     ]
    }
   ],
   "source": [
    "a=[]\n",
    "print(a,type(a))"
   ]
  },
  {
   "cell_type": "code",
   "execution_count": 31,
   "id": "24ed48ed",
   "metadata": {},
   "outputs": [
    {
     "ename": "TypeError",
     "evalue": "list.append() takes exactly one argument (2 given)",
     "output_type": "error",
     "traceback": [
      "\u001b[1;31m---------------------------------------------------------------------------\u001b[0m",
      "\u001b[1;31mTypeError\u001b[0m                                 Traceback (most recent call last)",
      "\u001b[1;32m~\\AppData\\Local\\Temp\\ipykernel_21768\\346921428.py\u001b[0m in \u001b[0;36m<module>\u001b[1;34m\u001b[0m\n\u001b[1;32m----> 1\u001b[1;33m \u001b[0ma\u001b[0m\u001b[1;33m.\u001b[0m\u001b[0mappend\u001b[0m\u001b[1;33m(\u001b[0m\u001b[1;36m10\u001b[0m\u001b[1;33m,\u001b[0m\u001b[1;36m30\u001b[0m\u001b[1;33m)\u001b[0m\u001b[1;33m\u001b[0m\u001b[1;33m\u001b[0m\u001b[0m\n\u001b[0m\u001b[0;32m      2\u001b[0m \u001b[0ma\u001b[0m\u001b[1;33m\u001b[0m\u001b[1;33m\u001b[0m\u001b[0m\n",
      "\u001b[1;31mTypeError\u001b[0m: list.append() takes exactly one argument (2 given)"
     ]
    }
   ],
   "source": [
    "a.append(10,30)\n",
    "a"
   ]
  },
  {
   "cell_type": "markdown",
   "id": "e43f77f5",
   "metadata": {},
   "source": [
    "**2.insert()**"
   ]
  },
  {
   "cell_type": "markdown",
   "id": "ab2d2775",
   "metadata": {},
   "source": [
    "Syntax:-   listobj.insert(index,Value)\n",
    "* Here Index Represents Either +ve or -ve\n",
    "* Here Value can be One or More(list)\n",
    "* This Function is used for adding The value to the list at Specified Valid Index.\n",
    "* If the Index Value is not existing at +Ve Side then the value Inserted at END/Last\n",
    "* If the Index Value is not existing at -Ve Side then the value Inserted at BEGIN / First"
   ]
  },
  {
   "cell_type": "code",
   "execution_count": 33,
   "id": "ed90735e",
   "metadata": {},
   "outputs": [
    {
     "name": "stdout",
     "output_type": "stream",
     "text": [
      "[10, 'python', True, (5+6j)] <class 'list'> 2245251508992\n"
     ]
    }
   ],
   "source": [
    "l=[10,'python',True,5+6j]\n",
    "print(l,type(l),id(l))"
   ]
  },
  {
   "cell_type": "code",
   "execution_count": 34,
   "id": "82128b9e",
   "metadata": {},
   "outputs": [
    {
     "name": "stdout",
     "output_type": "stream",
     "text": [
      "[10, 'innomatics', 'python', True, (5+6j)] <class 'list'> 2245251508992\n"
     ]
    }
   ],
   "source": [
    "l.insert(1,'innomatics')\n",
    "print(l,type(l),id(l))"
   ]
  },
  {
   "cell_type": "code",
   "execution_count": 36,
   "id": "c81255eb",
   "metadata": {},
   "outputs": [
    {
     "name": "stdout",
     "output_type": "stream",
     "text": [
      "[10, 'innomatics', 'python', 2, 2, True, (5+6j)] <class 'list'> 2245251508992\n"
     ]
    }
   ],
   "source": [
    "l.insert(3,2)\n",
    "print(l,type(l),id(l))"
   ]
  },
  {
   "cell_type": "code",
   "execution_count": 37,
   "id": "7d143aca",
   "metadata": {},
   "outputs": [
    {
     "name": "stdout",
     "output_type": "stream",
     "text": [
      "[10, 'innomatics', 'python', 2, 2, True, (5+6j), 45.3] <class 'list'> 2245251508992\n"
     ]
    }
   ],
   "source": [
    "l.insert(15,45.3)\n",
    "print(l,type(l),id(l))"
   ]
  },
  {
   "cell_type": "code",
   "execution_count": 39,
   "id": "f3866c91",
   "metadata": {},
   "outputs": [
    {
     "name": "stdout",
     "output_type": "stream",
     "text": [
      "['nl', 'nl', 10, 'innomatics', 'python', 2, 2, True, (5+6j), 45.3] <class 'list'> 2245251508992\n"
     ]
    }
   ],
   "source": [
    "l.insert(-15,'nl')\n",
    "print(l,type(l),id(l))"
   ]
  },
  {
   "cell_type": "markdown",
   "id": "ebeb5045",
   "metadata": {},
   "source": [
    "**3.clear()**"
   ]
  },
  {
   "cell_type": "markdown",
   "id": "10585b42",
   "metadata": {},
   "source": [
    "Syntax:    listobj.clear()\n",
    "* This Function is used for Removing all the Values from list object\n",
    "* When call this Function upon Empty List object then we never get any Result / None"
   ]
  },
  {
   "cell_type": "code",
   "execution_count": 41,
   "id": "54ac7fc4",
   "metadata": {},
   "outputs": [
    {
     "name": "stdout",
     "output_type": "stream",
     "text": [
      "[15, 'pavan', True, 5.32] <class 'list'> 2245250746816\n"
     ]
    }
   ],
   "source": [
    "l1=[15,'pavan',True,5.32]\n",
    "print(l1,type(l1),id(l1))"
   ]
  },
  {
   "cell_type": "code",
   "execution_count": 42,
   "id": "2d37666c",
   "metadata": {},
   "outputs": [
    {
     "name": "stdout",
     "output_type": "stream",
     "text": [
      "[] <class 'list'> 2245250746816\n"
     ]
    }
   ],
   "source": [
    "l1.clear()\n",
    "print(l1,type(l1),id(l1))"
   ]
  },
  {
   "cell_type": "code",
   "execution_count": 45,
   "id": "aa5b7857",
   "metadata": {},
   "outputs": [
    {
     "name": "stdout",
     "output_type": "stream",
     "text": [
      "[] <class 'list'> 2245251506944\n"
     ]
    }
   ],
   "source": [
    "l2=[]\n",
    "print(l2,type(l2),id(l2))"
   ]
  },
  {
   "cell_type": "code",
   "execution_count": 47,
   "id": "30270446",
   "metadata": {},
   "outputs": [
    {
     "name": "stdout",
     "output_type": "stream",
     "text": [
      "None\n"
     ]
    }
   ],
   "source": [
    "print(l2.clear())\n"
   ]
  },
  {
   "cell_type": "code",
   "execution_count": 48,
   "id": "61eae67a",
   "metadata": {},
   "outputs": [
    {
     "name": "stdout",
     "output_type": "stream",
     "text": [
      "None\n"
     ]
    }
   ],
   "source": [
    "print([].clear())"
   ]
  },
  {
   "cell_type": "markdown",
   "id": "403b7e80",
   "metadata": {},
   "source": [
    "**4.remove()**"
   ]
  },
  {
   "cell_type": "markdown",
   "id": "3ddf845c",
   "metadata": {},
   "source": [
    "Syntax:-  listobj.remove(Value)\n",
    "* This Function  is used for Removing First Occurence of Specified Element.\n",
    "* If the Specified Elements does not exist then we get ValueError"
   ]
  },
  {
   "cell_type": "code",
   "execution_count": 49,
   "id": "26b36ec6",
   "metadata": {},
   "outputs": [
    {
     "name": "stdout",
     "output_type": "stream",
     "text": [
      "[10, 'pavan', 5.23, True] <class 'list'>\n"
     ]
    }
   ],
   "source": [
    "l1=[10,'pavan',5.23,True]\n",
    "print(l1,type(l1))"
   ]
  },
  {
   "cell_type": "code",
   "execution_count": 50,
   "id": "c52fa849",
   "metadata": {},
   "outputs": [
    {
     "name": "stdout",
     "output_type": "stream",
     "text": [
      "[10, 'pavan', 5.23] <class 'list'>\n"
     ]
    }
   ],
   "source": [
    "l1.remove(True)\n",
    "print(l1,type(l1))"
   ]
  },
  {
   "cell_type": "code",
   "execution_count": 51,
   "id": "8571aaa2",
   "metadata": {},
   "outputs": [
    {
     "ename": "ValueError",
     "evalue": "list.remove(x): x not in list",
     "output_type": "error",
     "traceback": [
      "\u001b[1;31m---------------------------------------------------------------------------\u001b[0m",
      "\u001b[1;31mValueError\u001b[0m                                Traceback (most recent call last)",
      "\u001b[1;32m~\\AppData\\Local\\Temp\\ipykernel_21768\\2268622293.py\u001b[0m in \u001b[0;36m<module>\u001b[1;34m\u001b[0m\n\u001b[1;32m----> 1\u001b[1;33m \u001b[0ml1\u001b[0m\u001b[1;33m.\u001b[0m\u001b[0mremove\u001b[0m\u001b[1;33m(\u001b[0m\u001b[1;36m20\u001b[0m\u001b[1;33m)\u001b[0m\u001b[1;33m\u001b[0m\u001b[1;33m\u001b[0m\u001b[0m\n\u001b[0m\u001b[0;32m      2\u001b[0m \u001b[0mprint\u001b[0m\u001b[1;33m(\u001b[0m\u001b[0ml1\u001b[0m\u001b[1;33m,\u001b[0m\u001b[0mtype\u001b[0m\u001b[1;33m(\u001b[0m\u001b[0ml1\u001b[0m\u001b[1;33m)\u001b[0m\u001b[1;33m)\u001b[0m\u001b[1;33m\u001b[0m\u001b[1;33m\u001b[0m\u001b[0m\n",
      "\u001b[1;31mValueError\u001b[0m: list.remove(x): x not in list"
     ]
    }
   ],
   "source": [
    "l1.remove(20)\n",
    "print(l1,type(l1))"
   ]
  },
  {
   "cell_type": "code",
   "execution_count": 52,
   "id": "02dbed6f",
   "metadata": {},
   "outputs": [
    {
     "name": "stdout",
     "output_type": "stream",
     "text": [
      "[10, 20, 30, 40, 10, 50, 80, 10, 20, 30] <class 'list'>\n"
     ]
    }
   ],
   "source": [
    "l2=[10,20,30,40,10,50,80,10,20,30]\n",
    "print(l2,type(l2))"
   ]
  },
  {
   "cell_type": "code",
   "execution_count": 54,
   "id": "a6d9751a",
   "metadata": {},
   "outputs": [
    {
     "name": "stdout",
     "output_type": "stream",
     "text": [
      "[20, 30, 40, 50, 80, 10, 20, 30] <class 'list'>\n"
     ]
    }
   ],
   "source": [
    "l2.remove(10)\n",
    "print(l2,type(l2))"
   ]
  },
  {
   "cell_type": "markdown",
   "id": "d3d32f28",
   "metadata": {},
   "source": [
    "**5.pop(index)**"
   ]
  },
  {
   "cell_type": "markdown",
   "id": "18bebc52",
   "metadata": {},
   "source": [
    "Syntax:  listobj.pop(index)\n",
    "* This Function is used for Removing the Elemements of List based on Index\n",
    "* If the Index is Invalid then we get IndexError"
   ]
  },
  {
   "cell_type": "code",
   "execution_count": 55,
   "id": "17aa6276",
   "metadata": {},
   "outputs": [
    {
     "name": "stdout",
     "output_type": "stream",
     "text": [
      "[10, 20, 30, 40, 80, 20, 40] <class 'list'> 2245249646528\n"
     ]
    }
   ],
   "source": [
    "l2=[10,20,30,40,80,20,40]\n",
    "print(l2,type(l2),id(l2))"
   ]
  },
  {
   "cell_type": "code",
   "execution_count": 56,
   "id": "5cc31a8d",
   "metadata": {},
   "outputs": [
    {
     "name": "stdout",
     "output_type": "stream",
     "text": [
      "[10, 20, 40, 80, 20, 40] <class 'list'> 2245249646528\n"
     ]
    }
   ],
   "source": [
    "l2.pop(2)\n",
    "print(l2,type(l2),id(l2))"
   ]
  },
  {
   "cell_type": "code",
   "execution_count": 57,
   "id": "60c29130",
   "metadata": {},
   "outputs": [
    {
     "name": "stdout",
     "output_type": "stream",
     "text": [
      "[10, 20, 40, 80, 20] <class 'list'> 2245249646528\n"
     ]
    }
   ],
   "source": [
    "l2.pop(-1)\n",
    "print(l2,type(l2),id(l2))"
   ]
  },
  {
   "cell_type": "code",
   "execution_count": 58,
   "id": "ac2aa1b5",
   "metadata": {},
   "outputs": [
    {
     "ename": "IndexError",
     "evalue": "pop from empty list",
     "output_type": "error",
     "traceback": [
      "\u001b[1;31m---------------------------------------------------------------------------\u001b[0m",
      "\u001b[1;31mIndexError\u001b[0m                                Traceback (most recent call last)",
      "\u001b[1;32m~\\AppData\\Local\\Temp\\ipykernel_21768\\3650403866.py\u001b[0m in \u001b[0;36m<module>\u001b[1;34m\u001b[0m\n\u001b[1;32m----> 1\u001b[1;33m \u001b[0mprint\u001b[0m\u001b[1;33m(\u001b[0m\u001b[1;33m[\u001b[0m\u001b[1;33m]\u001b[0m\u001b[1;33m.\u001b[0m\u001b[0mpop\u001b[0m\u001b[1;33m(\u001b[0m\u001b[1;36m2\u001b[0m\u001b[1;33m)\u001b[0m\u001b[1;33m)\u001b[0m\u001b[1;33m\u001b[0m\u001b[1;33m\u001b[0m\u001b[0m\n\u001b[0m",
      "\u001b[1;31mIndexError\u001b[0m: pop from empty list"
     ]
    }
   ],
   "source": [
    "print([].pop(2))\n"
   ]
  },
  {
   "cell_type": "code",
   "execution_count": 59,
   "id": "88f06efb",
   "metadata": {},
   "outputs": [
    {
     "ename": "IndexError",
     "evalue": "pop index out of range",
     "output_type": "error",
     "traceback": [
      "\u001b[1;31m---------------------------------------------------------------------------\u001b[0m",
      "\u001b[1;31mIndexError\u001b[0m                                Traceback (most recent call last)",
      "\u001b[1;32m~\\AppData\\Local\\Temp\\ipykernel_21768\\592833601.py\u001b[0m in \u001b[0;36m<module>\u001b[1;34m\u001b[0m\n\u001b[1;32m----> 1\u001b[1;33m \u001b[0ml2\u001b[0m\u001b[1;33m.\u001b[0m\u001b[0mpop\u001b[0m\u001b[1;33m(\u001b[0m\u001b[1;36m60\u001b[0m\u001b[1;33m)\u001b[0m\u001b[1;33m\u001b[0m\u001b[1;33m\u001b[0m\u001b[0m\n\u001b[0m\u001b[0;32m      2\u001b[0m \u001b[0mprint\u001b[0m\u001b[1;33m(\u001b[0m\u001b[0ml2\u001b[0m\u001b[1;33m,\u001b[0m\u001b[0mtype\u001b[0m\u001b[1;33m(\u001b[0m\u001b[0ml2\u001b[0m\u001b[1;33m)\u001b[0m\u001b[1;33m,\u001b[0m\u001b[0mid\u001b[0m\u001b[1;33m(\u001b[0m\u001b[0ml2\u001b[0m\u001b[1;33m)\u001b[0m\u001b[1;33m)\u001b[0m\u001b[1;33m\u001b[0m\u001b[1;33m\u001b[0m\u001b[0m\n",
      "\u001b[1;31mIndexError\u001b[0m: pop index out of range"
     ]
    }
   ],
   "source": [
    "l2.pop(60)\n",
    "print(l2,type(l2),id(l2))"
   ]
  },
  {
   "cell_type": "markdown",
   "id": "01a91cc4",
   "metadata": {},
   "source": [
    "**6.pop()**"
   ]
  },
  {
   "cell_type": "markdown",
   "id": "83aa2056",
   "metadata": {},
   "source": [
    "Syntax:    listobj.pop()\n",
    "* This Function is used for Removing Last Element of non-list object\n",
    "* If we call pop() upon empty list object then we get IndexError.\n"
   ]
  },
  {
   "cell_type": "code",
   "execution_count": 60,
   "id": "5040d496",
   "metadata": {},
   "outputs": [
    {
     "data": {
      "text/plain": [
       "2.56"
      ]
     },
     "execution_count": 60,
     "metadata": {},
     "output_type": "execute_result"
    }
   ],
   "source": [
    "l1=[10,'pavan',2.56,]\n",
    "l1.pop()"
   ]
  },
  {
   "cell_type": "code",
   "execution_count": 61,
   "id": "41727fa3",
   "metadata": {},
   "outputs": [
    {
     "data": {
      "text/plain": [
       "'pavan'"
      ]
     },
     "execution_count": 61,
     "metadata": {},
     "output_type": "execute_result"
    }
   ],
   "source": [
    "l1.pop()"
   ]
  },
  {
   "cell_type": "code",
   "execution_count": 62,
   "id": "9fc9c412",
   "metadata": {},
   "outputs": [
    {
     "data": {
      "text/plain": [
       "10"
      ]
     },
     "execution_count": 62,
     "metadata": {},
     "output_type": "execute_result"
    }
   ],
   "source": [
    "l1.pop()"
   ]
  },
  {
   "cell_type": "code",
   "execution_count": 63,
   "id": "e6a71f3e",
   "metadata": {},
   "outputs": [
    {
     "ename": "IndexError",
     "evalue": "pop from empty list",
     "output_type": "error",
     "traceback": [
      "\u001b[1;31m---------------------------------------------------------------------------\u001b[0m",
      "\u001b[1;31mIndexError\u001b[0m                                Traceback (most recent call last)",
      "\u001b[1;32m~\\AppData\\Local\\Temp\\ipykernel_21768\\116200792.py\u001b[0m in \u001b[0;36m<module>\u001b[1;34m\u001b[0m\n\u001b[1;32m----> 1\u001b[1;33m \u001b[0ml1\u001b[0m\u001b[1;33m.\u001b[0m\u001b[0mpop\u001b[0m\u001b[1;33m(\u001b[0m\u001b[1;33m)\u001b[0m\u001b[1;33m\u001b[0m\u001b[1;33m\u001b[0m\u001b[0m\n\u001b[0m",
      "\u001b[1;31mIndexError\u001b[0m: pop from empty list"
     ]
    }
   ],
   "source": [
    "l1.pop()"
   ]
  },
  {
   "cell_type": "markdown",
   "id": "177978b6",
   "metadata": {},
   "source": [
    "**7.copy()**"
   ]
  },
  {
   "cell_type": "markdown",
   "id": "b90b03c1",
   "metadata": {},
   "source": [
    "* This Function is used copying the content of one list object to another list object (Shallow Copy).\n",
    "* Syntax:      listobj2=listobj1.copy()\n"
   ]
  },
  {
   "cell_type": "code",
   "execution_count": 64,
   "id": "b47f415f",
   "metadata": {},
   "outputs": [
    {
     "name": "stdout",
     "output_type": "stream",
     "text": [
      "[10, 'pavan'] 2245249761792\n"
     ]
    }
   ],
   "source": [
    "l1=[10,'pavan']\n",
    "print(l1,id(l1))"
   ]
  },
  {
   "cell_type": "code",
   "execution_count": 65,
   "id": "0912735f",
   "metadata": {},
   "outputs": [
    {
     "name": "stdout",
     "output_type": "stream",
     "text": [
      "[10, 'pavan'] 2245249764480\n"
     ]
    }
   ],
   "source": [
    "l2=l1.copy()\n",
    "print(l2,id(l2))"
   ]
  },
  {
   "cell_type": "code",
   "execution_count": 66,
   "id": "7f5c4c15",
   "metadata": {},
   "outputs": [
    {
     "name": "stdout",
     "output_type": "stream",
     "text": [
      "[10, 'pavan', 5.2] 2245249761792\n"
     ]
    }
   ],
   "source": [
    "l1.append(5.2)\n",
    "print(l1,id(l1))"
   ]
  },
  {
   "cell_type": "code",
   "execution_count": 67,
   "id": "bd6fd67f",
   "metadata": {},
   "outputs": [
    {
     "name": "stdout",
     "output_type": "stream",
     "text": [
      "[10, 'pavan'] 2245249764480\n"
     ]
    }
   ],
   "source": [
    "print(l2,id(l2))"
   ]
  },
  {
   "cell_type": "code",
   "execution_count": 68,
   "id": "feae0728",
   "metadata": {},
   "outputs": [
    {
     "name": "stdout",
     "output_type": "stream",
     "text": [
      "[10, 'pavan', 'innomatics'] 2245249764480\n"
     ]
    }
   ],
   "source": [
    "l2.insert(2,'innomatics')\n",
    "print(l2,id(l2))"
   ]
  },
  {
   "cell_type": "code",
   "execution_count": 69,
   "id": "f070a743",
   "metadata": {},
   "outputs": [
    {
     "name": "stdout",
     "output_type": "stream",
     "text": [
      "[10, 20, 30] <class 'list'> 2245249765184\n"
     ]
    }
   ],
   "source": [
    "a=[10,20,30]\n",
    "print(a,type(a),id(a))"
   ]
  },
  {
   "cell_type": "code",
   "execution_count": 73,
   "id": "9d779ecb",
   "metadata": {},
   "outputs": [],
   "source": [
    "b=a"
   ]
  },
  {
   "cell_type": "code",
   "execution_count": 74,
   "id": "ca65d45d",
   "metadata": {},
   "outputs": [
    {
     "name": "stdout",
     "output_type": "stream",
     "text": [
      "[10, 20, 30] <class 'list'> 2245249765184\n"
     ]
    }
   ],
   "source": [
    "print(b,type(b),id(b))"
   ]
  },
  {
   "cell_type": "code",
   "execution_count": 75,
   "id": "b062dc62",
   "metadata": {},
   "outputs": [
    {
     "name": "stdout",
     "output_type": "stream",
     "text": [
      "[10, 20, 30, 'python'] <class 'list'> 2245249765184\n"
     ]
    }
   ],
   "source": [
    "a.append('python')\n",
    "print(a,type(a),id(a))"
   ]
  },
  {
   "cell_type": "code",
   "execution_count": 76,
   "id": "6c968a5e",
   "metadata": {},
   "outputs": [
    {
     "name": "stdout",
     "output_type": "stream",
     "text": [
      "[10, 20, 30, 'python'] <class 'list'> 2245249765184\n"
     ]
    }
   ],
   "source": [
    "print(b,type(b),id(b))"
   ]
  },
  {
   "cell_type": "code",
   "execution_count": 77,
   "id": "50bf15b4",
   "metadata": {},
   "outputs": [
    {
     "name": "stdout",
     "output_type": "stream",
     "text": [
      "[10, 20, 'nl', 30, 'python'] <class 'list'> 2245249765184\n"
     ]
    }
   ],
   "source": [
    "b.insert(2,'nl')\n",
    "print(b,type(b),id(b))"
   ]
  },
  {
   "cell_type": "code",
   "execution_count": 78,
   "id": "ba3b2082",
   "metadata": {},
   "outputs": [
    {
     "name": "stdout",
     "output_type": "stream",
     "text": [
      "[10, 20, 'nl', 30, 'python'] <class 'list'> 2245249765184\n"
     ]
    }
   ],
   "source": [
    "print(a,type(a),id(a))"
   ]
  },
  {
   "cell_type": "markdown",
   "id": "8ce4c137",
   "metadata": {},
   "source": [
    "**8.index()**"
   ]
  },
  {
   "cell_type": "markdown",
   "id": "10dd735f",
   "metadata": {},
   "source": [
    "Syntax:   listobj.index(Value)\n",
    "* This Function is used  Finding Index of First occurence of Specified Element from non-empty list object.\n",
    "* If the Specified Element does not exist then we get ValueError\n",
    "* If we call this function on empty-list object then we get ValueError\n"
   ]
  },
  {
   "cell_type": "code",
   "execution_count": 80,
   "id": "6cddd29b",
   "metadata": {},
   "outputs": [
    {
     "name": "stdout",
     "output_type": "stream",
     "text": [
      "[10, 20, 10, 'pavan', 50, 10, 30] <class 'list'> 2245169277232\n"
     ]
    }
   ],
   "source": [
    "l=[10,20,10,'pavan',50,10,30]\n",
    "print(l,type(l),id(1))"
   ]
  },
  {
   "cell_type": "code",
   "execution_count": 81,
   "id": "e702f051",
   "metadata": {},
   "outputs": [
    {
     "data": {
      "text/plain": [
       "0"
      ]
     },
     "execution_count": 81,
     "metadata": {},
     "output_type": "execute_result"
    }
   ],
   "source": [
    "l.index(10)"
   ]
  },
  {
   "cell_type": "code",
   "execution_count": 83,
   "id": "5543a99f",
   "metadata": {},
   "outputs": [
    {
     "data": {
      "text/plain": [
       "6"
      ]
     },
     "execution_count": 83,
     "metadata": {},
     "output_type": "execute_result"
    }
   ],
   "source": [
    "l.index(30)"
   ]
  },
  {
   "cell_type": "code",
   "execution_count": 84,
   "id": "75a6cc2e",
   "metadata": {},
   "outputs": [
    {
     "ename": "ValueError",
     "evalue": "2 is not in list",
     "output_type": "error",
     "traceback": [
      "\u001b[1;31m---------------------------------------------------------------------------\u001b[0m",
      "\u001b[1;31mValueError\u001b[0m                                Traceback (most recent call last)",
      "\u001b[1;32m~\\AppData\\Local\\Temp\\ipykernel_21768\\3719352230.py\u001b[0m in \u001b[0;36m<module>\u001b[1;34m\u001b[0m\n\u001b[1;32m----> 1\u001b[1;33m \u001b[0ml\u001b[0m\u001b[1;33m.\u001b[0m\u001b[0mindex\u001b[0m\u001b[1;33m(\u001b[0m\u001b[1;36m2\u001b[0m\u001b[1;33m)\u001b[0m\u001b[1;33m\u001b[0m\u001b[1;33m\u001b[0m\u001b[0m\n\u001b[0m",
      "\u001b[1;31mValueError\u001b[0m: 2 is not in list"
     ]
    }
   ],
   "source": [
    "l.index(2)"
   ]
  },
  {
   "cell_type": "code",
   "execution_count": 87,
   "id": "c4e61245",
   "metadata": {},
   "outputs": [
    {
     "name": "stdout",
     "output_type": "stream",
     "text": [
      "0 10\n",
      "1 20\n",
      "2 10\n",
      "3 pavan\n",
      "4 50\n",
      "5 10\n",
      "6 30\n"
     ]
    }
   ],
   "source": [
    "for index,value in enumerate(l):\n",
    "    print(index,value)"
   ]
  },
  {
   "cell_type": "markdown",
   "id": "d4b597cf",
   "metadata": {},
   "source": [
    "**9.count()**"
   ]
  },
  {
   "cell_type": "markdown",
   "id": "ece6a26a",
   "metadata": {},
   "source": [
    "* This Function is used finding Number of Occurences of a specified Element.\n",
    "*Syntax:  listobj.count(value)"
   ]
  },
  {
   "cell_type": "code",
   "execution_count": 89,
   "id": "7a6a1a39",
   "metadata": {},
   "outputs": [
    {
     "name": "stdout",
     "output_type": "stream",
     "text": [
      "[10, 20, 50, 30, 40, 10, 50, 80, 60, 70, 30, 20, 10] <class 'list'> 2245251506688\n"
     ]
    }
   ],
   "source": [
    "l=[10,20,50,30,40,10,50,80,60,70,30,20,10]\n",
    "print(l,type(l),id(l))"
   ]
  },
  {
   "cell_type": "code",
   "execution_count": 90,
   "id": "9f027c35",
   "metadata": {},
   "outputs": [
    {
     "data": {
      "text/plain": [
       "3"
      ]
     },
     "execution_count": 90,
     "metadata": {},
     "output_type": "execute_result"
    }
   ],
   "source": [
    "l.count(10)"
   ]
  },
  {
   "cell_type": "code",
   "execution_count": 91,
   "id": "9f5ccbbf",
   "metadata": {},
   "outputs": [
    {
     "data": {
      "text/plain": [
       "2"
      ]
     },
     "execution_count": 91,
     "metadata": {},
     "output_type": "execute_result"
    }
   ],
   "source": [
    "l.count(30)"
   ]
  },
  {
   "cell_type": "code",
   "execution_count": 92,
   "id": "eeee0ceb",
   "metadata": {},
   "outputs": [
    {
     "data": {
      "text/plain": [
       "0"
      ]
     },
     "execution_count": 92,
     "metadata": {},
     "output_type": "execute_result"
    }
   ],
   "source": [
    "l.count(100)"
   ]
  },
  {
   "cell_type": "code",
   "execution_count": 94,
   "id": "ea5095dc",
   "metadata": {},
   "outputs": [
    {
     "data": {
      "text/plain": [
       "0"
      ]
     },
     "execution_count": 94,
     "metadata": {},
     "output_type": "execute_result"
    }
   ],
   "source": [
    "l.count('hyd')"
   ]
  },
  {
   "cell_type": "markdown",
   "id": "1b410636",
   "metadata": {},
   "source": [
    "**10.reverse()**"
   ]
  },
  {
   "cell_type": "markdown",
   "id": "13b72199",
   "metadata": {},
   "source": [
    "* This Function is used for reversing (Front to back and Back to Front) the elements of List object.\n",
    "* Syntax:   lstobj.reverse()"
   ]
  },
  {
   "cell_type": "code",
   "execution_count": 103,
   "id": "c343e3b9",
   "metadata": {},
   "outputs": [
    {
     "name": "stdout",
     "output_type": "stream",
     "text": [
      "[10, 'data', True, (5+5j), 'pavan', 1.0] <class 'list'> 2245251509504\n"
     ]
    }
   ],
   "source": [
    "l1=[10,'data',True,5+5j,'pavan',1.0]\n",
    "print(l1,type(l1),id(l1))\n"
   ]
  },
  {
   "cell_type": "code",
   "execution_count": 104,
   "id": "1af7c2fb",
   "metadata": {},
   "outputs": [
    {
     "name": "stdout",
     "output_type": "stream",
     "text": [
      "None <class 'NoneType'> 140720905501912\n"
     ]
    }
   ],
   "source": [
    "l2=l1.reverse()\n",
    "print(l2,type(l2),id(l2))"
   ]
  },
  {
   "cell_type": "code",
   "execution_count": 105,
   "id": "9fbc2817",
   "metadata": {},
   "outputs": [
    {
     "name": "stdout",
     "output_type": "stream",
     "text": [
      "[1.0, 'pavan', (5+5j), True, 'data', 10] <class 'list'> 2245251509504\n"
     ]
    }
   ],
   "source": [
    "\n",
    "print(l1,type(l1),id(l1))"
   ]
  },
  {
   "cell_type": "code",
   "execution_count": 98,
   "id": "2e9f5813",
   "metadata": {},
   "outputs": [
    {
     "name": "stdout",
     "output_type": "stream",
     "text": [
      "[10, 'data', True, (5+5j), 'pavan', 1.0] <class 'list'> 2245251510016\n"
     ]
    }
   ],
   "source": [
    "l=[10,'data',True,5+5j,'pavan',1.0]\n",
    "print(l,type(l),id(l))"
   ]
  },
  {
   "cell_type": "code",
   "execution_count": 100,
   "id": "34f81c6f",
   "metadata": {},
   "outputs": [
    {
     "name": "stdout",
     "output_type": "stream",
     "text": [
      "[1.0, 'pavan', (5+5j), True, 'data', 10] <class 'list'> 2245249774784\n"
     ]
    }
   ],
   "source": [
    "l3=l[::-1]\n",
    "print(l3,type(l3),id(l3))"
   ]
  },
  {
   "cell_type": "markdown",
   "id": "e37693b4",
   "metadata": {},
   "source": [
    "**11.sort()**"
   ]
  },
  {
   "cell_type": "markdown",
   "id": "ac249a66",
   "metadata": {},
   "source": [
    "* Syntax1:   listobj.sort()----->Used to Sort the data of list in Ascending Order\n",
    "* Syntax2:   listobj.sort(reverse=False)----->Used to Sort the data of list in Ascending Order\n",
    "* Syntax3:   listobj.sort(reverse=True)----------->Used to Sort the data of list in Decending Order"
   ]
  },
  {
   "cell_type": "code",
   "execution_count": 108,
   "id": "8091e619",
   "metadata": {},
   "outputs": [
    {
     "name": "stdout",
     "output_type": "stream",
     "text": [
      "[-2, 10, 20, 50, -3, 100, -100] <class 'list'> 2245249797760\n"
     ]
    }
   ],
   "source": [
    "l1=[-2,10,20,50,-3,100,-100]\n",
    "print(l1,type(l1),id(l1))"
   ]
  },
  {
   "cell_type": "code",
   "execution_count": 110,
   "id": "5bcd35c8",
   "metadata": {},
   "outputs": [
    {
     "name": "stdout",
     "output_type": "stream",
     "text": [
      "[-100, -3, -2, 10, 20, 50, 100] <class 'list'> 2245249797760\n"
     ]
    }
   ],
   "source": [
    "l1.sort()\n",
    "print(l1,type(l1),id(l1))"
   ]
  },
  {
   "cell_type": "code",
   "execution_count": 111,
   "id": "a9141e0f",
   "metadata": {},
   "outputs": [
    {
     "name": "stdout",
     "output_type": "stream",
     "text": [
      "[-100, -3, -2, 10, 20, 50, 100] <class 'list'> 2245249797760\n"
     ]
    }
   ],
   "source": [
    "l1.sort(reverse=False)\n",
    "print(l1,type(l1),id(l1))"
   ]
  },
  {
   "cell_type": "code",
   "execution_count": 112,
   "id": "3a532b4c",
   "metadata": {},
   "outputs": [
    {
     "name": "stdout",
     "output_type": "stream",
     "text": [
      "[100, 50, 20, 10, -2, -3, -100] <class 'list'> 2245249797760\n"
     ]
    }
   ],
   "source": [
    "l1.sort(reverse=True)\n",
    "print(l1,type(l1),id(l1))"
   ]
  },
  {
   "cell_type": "code",
   "execution_count": 114,
   "id": "ed71192e",
   "metadata": {},
   "outputs": [
    {
     "name": "stdout",
     "output_type": "stream",
     "text": [
      "['pavan', 'san', 'innomatics', 'hyd', 'data', 'an'] <class 'list'> 2245249797632\n"
     ]
    }
   ],
   "source": [
    "a=['pavan','san','innomatics','hyd','data','an']\n",
    "print(a,type(a),id(a))"
   ]
  },
  {
   "cell_type": "code",
   "execution_count": 115,
   "id": "c468b362",
   "metadata": {},
   "outputs": [
    {
     "name": "stdout",
     "output_type": "stream",
     "text": [
      "['an', 'data', 'hyd', 'innomatics', 'pavan', 'san'] <class 'list'> 2245249797632\n"
     ]
    }
   ],
   "source": [
    "a.sort()\n",
    "print(a,type(a),id(a))"
   ]
  },
  {
   "cell_type": "code",
   "execution_count": 116,
   "id": "8c21db2b",
   "metadata": {},
   "outputs": [
    {
     "name": "stdout",
     "output_type": "stream",
     "text": [
      "['san', 'pavan', 'innomatics', 'hyd', 'data', 'an'] <class 'list'> 2245249797632\n"
     ]
    }
   ],
   "source": [
    "a.sort(reverse=True)\n",
    "print(a,type(a),id(a))"
   ]
  },
  {
   "cell_type": "code",
   "execution_count": 117,
   "id": "635c9f66",
   "metadata": {},
   "outputs": [
    {
     "data": {
      "text/plain": [
       "['san', 'pavan', 'innomatics', 'hyd', 'data', 'an']"
      ]
     },
     "execution_count": 117,
     "metadata": {},
     "output_type": "execute_result"
    }
   ],
   "source": [
    "a"
   ]
  },
  {
   "cell_type": "code",
   "execution_count": 118,
   "id": "a6b4d0dd",
   "metadata": {},
   "outputs": [
    {
     "name": "stdout",
     "output_type": "stream",
     "text": [
      "['pavan', 'san', 'innomatics', 'hyd', 'data', 'an', 'ASR'] <class 'list'> 2245251594432\n"
     ]
    }
   ],
   "source": [
    "a=['pavan','san','innomatics','hyd','data','an','ASR']\n",
    "print(a,type(a),id(a))"
   ]
  },
  {
   "cell_type": "code",
   "execution_count": 119,
   "id": "cc6d36eb",
   "metadata": {},
   "outputs": [
    {
     "name": "stdout",
     "output_type": "stream",
     "text": [
      "['ASR', 'an', 'data', 'hyd', 'innomatics', 'pavan', 'san'] <class 'list'> 2245251594432\n"
     ]
    }
   ],
   "source": [
    "a.sort()\n",
    "print(a,type(a),id(a))"
   ]
  },
  {
   "cell_type": "code",
   "execution_count": 122,
   "id": "71adb859",
   "metadata": {},
   "outputs": [
    {
     "name": "stdout",
     "output_type": "stream",
     "text": [
      "['pavan', 'san', 'innomatics', 'hyd', 'd.sc', 'an', 'ASR'] <class 'list'> 2245250747072\n"
     ]
    }
   ],
   "source": [
    "a=['pavan','san','innomatics','hyd','d.sc','an','ASR']\n",
    "print(a,type(a),id(a))"
   ]
  },
  {
   "cell_type": "code",
   "execution_count": 123,
   "id": "a63eaeb3",
   "metadata": {},
   "outputs": [
    {
     "name": "stdout",
     "output_type": "stream",
     "text": [
      "['ASR', 'an', 'd.sc', 'hyd', 'innomatics', 'pavan', 'san'] <class 'list'> 2245250747072\n"
     ]
    }
   ],
   "source": [
    "a.sort()\n",
    "print(a,type(a),id(a))"
   ]
  },
  {
   "cell_type": "code",
   "execution_count": 124,
   "id": "93023b1d",
   "metadata": {},
   "outputs": [
    {
     "name": "stdout",
     "output_type": "stream",
     "text": [
      "['pavan', 'san', 'innomatics', 'hyd', 'd.sc', 'an', 'ASR', 10] <class 'list'> 2245249781888\n"
     ]
    }
   ],
   "source": [
    "a=['pavan','san','innomatics','hyd','d.sc','an','ASR',10]\n",
    "print(a,type(a),id(a))"
   ]
  },
  {
   "cell_type": "code",
   "execution_count": 125,
   "id": "50036062",
   "metadata": {},
   "outputs": [
    {
     "ename": "TypeError",
     "evalue": "'<' not supported between instances of 'int' and 'str'",
     "output_type": "error",
     "traceback": [
      "\u001b[1;31m---------------------------------------------------------------------------\u001b[0m",
      "\u001b[1;31mTypeError\u001b[0m                                 Traceback (most recent call last)",
      "\u001b[1;32m~\\AppData\\Local\\Temp\\ipykernel_21768\\3475923760.py\u001b[0m in \u001b[0;36m<module>\u001b[1;34m\u001b[0m\n\u001b[1;32m----> 1\u001b[1;33m \u001b[0ma\u001b[0m\u001b[1;33m.\u001b[0m\u001b[0msort\u001b[0m\u001b[1;33m(\u001b[0m\u001b[1;33m)\u001b[0m\u001b[1;33m\u001b[0m\u001b[1;33m\u001b[0m\u001b[0m\n\u001b[0m\u001b[0;32m      2\u001b[0m \u001b[0mprint\u001b[0m\u001b[1;33m(\u001b[0m\u001b[0ma\u001b[0m\u001b[1;33m,\u001b[0m\u001b[0mtype\u001b[0m\u001b[1;33m(\u001b[0m\u001b[0ma\u001b[0m\u001b[1;33m)\u001b[0m\u001b[1;33m,\u001b[0m\u001b[0mid\u001b[0m\u001b[1;33m(\u001b[0m\u001b[0ma\u001b[0m\u001b[1;33m)\u001b[0m\u001b[1;33m)\u001b[0m\u001b[1;33m\u001b[0m\u001b[1;33m\u001b[0m\u001b[0m\n",
      "\u001b[1;31mTypeError\u001b[0m: '<' not supported between instances of 'int' and 'str'"
     ]
    }
   ],
   "source": [
    "a.sort()\n",
    "print(a,type(a),id(a))"
   ]
  },
  {
   "cell_type": "markdown",
   "id": "13b6a2a2",
   "metadata": {},
   "source": [
    "**12.extend()**"
   ]
  },
  {
   "cell_type": "markdown",
   "id": "cf0162c2",
   "metadata": {},
   "source": [
    "Syntax:    listobj1.extend(listobj2)\n",
    "* This Function is used for adding the content of listobj2 to listobj1\n",
    "* This Function can add only one list object content at a time to another list object but not multiple list objects.\n",
    "* To extend multiple list objects at a time to list object, we use + operator\n",
    "* Syntax: listobj1=listobj1+listobj2+....+listobj-n"
   ]
  },
  {
   "cell_type": "code",
   "execution_count": 133,
   "id": "b2baf05f",
   "metadata": {},
   "outputs": [
    {
     "name": "stdout",
     "output_type": "stream",
     "text": [
      "[10, 20, 30] ['pavan', 'data science']\n"
     ]
    }
   ],
   "source": [
    "a,b=[10,20,30],['pavan','data science']\n",
    "print(a,b)"
   ]
  },
  {
   "cell_type": "code",
   "execution_count": 134,
   "id": "d1382635",
   "metadata": {},
   "outputs": [
    {
     "data": {
      "text/plain": [
       "([10, 20, 30], 2245251597056)"
      ]
     },
     "execution_count": 134,
     "metadata": {},
     "output_type": "execute_result"
    }
   ],
   "source": [
    "a,id(a)"
   ]
  },
  {
   "cell_type": "code",
   "execution_count": 135,
   "id": "7698ecd7",
   "metadata": {},
   "outputs": [
    {
     "data": {
      "text/plain": [
       "(['pavan', 'data science'], 2245249674432)"
      ]
     },
     "execution_count": 135,
     "metadata": {},
     "output_type": "execute_result"
    }
   ],
   "source": [
    "b,id(b)"
   ]
  },
  {
   "cell_type": "code",
   "execution_count": 136,
   "id": "f889d9f0",
   "metadata": {},
   "outputs": [
    {
     "name": "stdout",
     "output_type": "stream",
     "text": [
      "[10, 20, 30, 'pavan', 'data science'] 2245251597056\n"
     ]
    }
   ],
   "source": [
    "a.extend(b)\n",
    "print(a,id(a))"
   ]
  },
  {
   "cell_type": "code",
   "execution_count": 138,
   "id": "b87b6e0b",
   "metadata": {},
   "outputs": [
    {
     "name": "stdout",
     "output_type": "stream",
     "text": [
      "['pavan', 'data science'] 2245249674432\n"
     ]
    }
   ],
   "source": [
    "print(b,id(b))"
   ]
  },
  {
   "cell_type": "code",
   "execution_count": 139,
   "id": "ac770eab",
   "metadata": {},
   "outputs": [
    {
     "data": {
      "text/plain": [
       "['python', 'java']"
      ]
     },
     "execution_count": 139,
     "metadata": {},
     "output_type": "execute_result"
    }
   ],
   "source": [
    "c=['python','java']\n",
    "c"
   ]
  },
  {
   "cell_type": "code",
   "execution_count": 140,
   "id": "b832e8ba",
   "metadata": {},
   "outputs": [
    {
     "ename": "TypeError",
     "evalue": "list.extend() takes exactly one argument (2 given)",
     "output_type": "error",
     "traceback": [
      "\u001b[1;31m---------------------------------------------------------------------------\u001b[0m",
      "\u001b[1;31mTypeError\u001b[0m                                 Traceback (most recent call last)",
      "\u001b[1;32m~\\AppData\\Local\\Temp\\ipykernel_21768\\1841640777.py\u001b[0m in \u001b[0;36m<module>\u001b[1;34m\u001b[0m\n\u001b[1;32m----> 1\u001b[1;33m \u001b[0ma\u001b[0m\u001b[1;33m.\u001b[0m\u001b[0mextend\u001b[0m\u001b[1;33m(\u001b[0m\u001b[0mb\u001b[0m\u001b[1;33m,\u001b[0m\u001b[0mc\u001b[0m\u001b[1;33m)\u001b[0m\u001b[1;33m\u001b[0m\u001b[1;33m\u001b[0m\u001b[0m\n\u001b[0m\u001b[0;32m      2\u001b[0m \u001b[0mprint\u001b[0m\u001b[1;33m(\u001b[0m\u001b[0ma\u001b[0m\u001b[1;33m)\u001b[0m\u001b[1;33m\u001b[0m\u001b[1;33m\u001b[0m\u001b[0m\n",
      "\u001b[1;31mTypeError\u001b[0m: list.extend() takes exactly one argument (2 given)"
     ]
    }
   ],
   "source": [
    "a.extend(b,c)\n",
    "print(a)"
   ]
  },
  {
   "cell_type": "code",
   "execution_count": 141,
   "id": "5386a1ee",
   "metadata": {},
   "outputs": [
    {
     "name": "stdout",
     "output_type": "stream",
     "text": [
      "[10, 20, 30, 'pavan', 'data science', 'pavan', 'data science', 'python', 'java'] <class 'list'> 2245251617984\n"
     ]
    }
   ],
   "source": [
    "d=a+b+c\n",
    "print(d,type(d),id(d))"
   ]
  },
  {
   "cell_type": "markdown",
   "id": "bf1a5cbb",
   "metadata": {},
   "source": [
    "# INNER OR NESTED LIST"
   ]
  },
  {
   "cell_type": "markdown",
   "id": "3de57646",
   "metadata": {},
   "source": [
    "* The Process of Defining one list inside of another list is called Inner or Nested List\n",
    "* Syntax:-  listobj=[ Val1, Val2....[Val11,Val12...Val1n], [Val21,Val22..Val2n...], Val-n ]\n",
    "\n",
    "\n",
    "* Here Val1,Val2...Val-n are called Values of Outer List\n",
    "* Here Val11,Val12...Val-1n are called Values of one Inner List\n",
    "* Here Val21,Val22...Val-2n are called Values of another Inner List\n",
    "* In inner list we can perform Both Indexing and Slicing Operations\n",
    "* On Inner List, we can apply all pre-defined function of list.\n"
   ]
  },
  {
   "cell_type": "code",
   "execution_count": 164,
   "id": "f09e370c",
   "metadata": {},
   "outputs": [
    {
     "data": {
      "text/plain": [
       "[10, 20, ['list', 'inner'], [50, 60], 'if']"
      ]
     },
     "execution_count": 164,
     "metadata": {},
     "output_type": "execute_result"
    }
   ],
   "source": [
    "s=[10,20,['list','inner'],[50,60],'if']\n",
    "s"
   ]
  },
  {
   "cell_type": "code",
   "execution_count": 165,
   "id": "3b431324",
   "metadata": {},
   "outputs": [
    {
     "data": {
      "text/plain": [
       "10"
      ]
     },
     "execution_count": 165,
     "metadata": {},
     "output_type": "execute_result"
    }
   ],
   "source": [
    "s[0]"
   ]
  },
  {
   "cell_type": "code",
   "execution_count": 166,
   "id": "802c7701",
   "metadata": {},
   "outputs": [
    {
     "data": {
      "text/plain": [
       "20"
      ]
     },
     "execution_count": 166,
     "metadata": {},
     "output_type": "execute_result"
    }
   ],
   "source": [
    "s[1]"
   ]
  },
  {
   "cell_type": "code",
   "execution_count": 167,
   "id": "f2def794",
   "metadata": {},
   "outputs": [
    {
     "data": {
      "text/plain": [
       "['list', 'inner']"
      ]
     },
     "execution_count": 167,
     "metadata": {},
     "output_type": "execute_result"
    }
   ],
   "source": [
    "s[2]"
   ]
  },
  {
   "cell_type": "code",
   "execution_count": 168,
   "id": "641cbe98",
   "metadata": {},
   "outputs": [
    {
     "data": {
      "text/plain": [
       "[50, 60]"
      ]
     },
     "execution_count": 168,
     "metadata": {},
     "output_type": "execute_result"
    }
   ],
   "source": [
    "s[3]"
   ]
  },
  {
   "cell_type": "code",
   "execution_count": 169,
   "id": "e116aeaf",
   "metadata": {},
   "outputs": [
    {
     "data": {
      "text/plain": [
       "'if'"
      ]
     },
     "execution_count": 169,
     "metadata": {},
     "output_type": "execute_result"
    }
   ],
   "source": [
    "s[4]"
   ]
  },
  {
   "cell_type": "code",
   "execution_count": 170,
   "id": "0a8b012c",
   "metadata": {},
   "outputs": [
    {
     "data": {
      "text/plain": [
       "[10, 20, ['list', 'inner', 100], [50, 60], 'if']"
      ]
     },
     "execution_count": 170,
     "metadata": {},
     "output_type": "execute_result"
    }
   ],
   "source": [
    "s[2].append(100)\n",
    "s"
   ]
  },
  {
   "cell_type": "code",
   "execution_count": 171,
   "id": "4d2ec4c0",
   "metadata": {},
   "outputs": [
    {
     "data": {
      "text/plain": [
       "[10, 20, ['list', 'inner', 100], [50, 60, 'python'], 'if']"
      ]
     },
     "execution_count": 171,
     "metadata": {},
     "output_type": "execute_result"
    }
   ],
   "source": [
    "s[3].insert(2,'python')\n",
    "s"
   ]
  },
  {
   "cell_type": "code",
   "execution_count": 172,
   "id": "503150dc",
   "metadata": {},
   "outputs": [
    {
     "data": {
      "text/plain": [
       "[10, 20, ['list', 'inner', 100], [50, 60, 'python'], 'if']"
      ]
     },
     "execution_count": 172,
     "metadata": {},
     "output_type": "execute_result"
    }
   ],
   "source": [
    "s[2][:1]\n",
    "s"
   ]
  },
  {
   "cell_type": "code",
   "execution_count": 173,
   "id": "5d750227",
   "metadata": {},
   "outputs": [
    {
     "data": {
      "text/plain": [
       "[10, 20, ['list', 'inner', 100], [50, 60, 'python'], 'if']"
      ]
     },
     "execution_count": 173,
     "metadata": {},
     "output_type": "execute_result"
    }
   ],
   "source": [
    "s[-2][::-1]\n",
    "s"
   ]
  },
  {
   "cell_type": "code",
   "execution_count": 174,
   "id": "b3ef9c12",
   "metadata": {},
   "outputs": [
    {
     "data": {
      "text/plain": [
       "[10, 20, [], [50, 60, 'python'], 'if']"
      ]
     },
     "execution_count": 174,
     "metadata": {},
     "output_type": "execute_result"
    }
   ],
   "source": [
    "s[2].clear()\n",
    "s"
   ]
  },
  {
   "cell_type": "code",
   "execution_count": 175,
   "id": "000c2d4a",
   "metadata": {},
   "outputs": [
    {
     "data": {
      "text/plain": [
       "[10, 20, [10], [50, 60, 'python'], 'if']"
      ]
     },
     "execution_count": 175,
     "metadata": {},
     "output_type": "execute_result"
    }
   ],
   "source": [
    "s[2].append(10)\n",
    "s"
   ]
  },
  {
   "cell_type": "code",
   "execution_count": 176,
   "id": "0a4a9e17",
   "metadata": {},
   "outputs": [
    {
     "data": {
      "text/plain": [
       "[10, 20, [10, 20], [50, 60, 'python'], 'if']"
      ]
     },
     "execution_count": 176,
     "metadata": {},
     "output_type": "execute_result"
    }
   ],
   "source": [
    "s[2].append(20)\n",
    "s"
   ]
  },
  {
   "cell_type": "code",
   "execution_count": 178,
   "id": "95022cd1",
   "metadata": {},
   "outputs": [
    {
     "data": {
      "text/plain": [
       "[10, 20, [55, 25, 100, 45, 36, 86], [50, 60, 69], 'if']"
      ]
     },
     "execution_count": 178,
     "metadata": {},
     "output_type": "execute_result"
    }
   ],
   "source": [
    "s1=[10, 20, [55, 25, 100,45,36,86], [50, 60, 69], 'if']\n",
    "s1"
   ]
  },
  {
   "cell_type": "code",
   "execution_count": 181,
   "id": "6023ea71",
   "metadata": {},
   "outputs": [
    {
     "data": {
      "text/plain": [
       "[10, 20, [55, 25, 100, 45, 36, 86], [50, 60, 69], 'if']"
      ]
     },
     "execution_count": 181,
     "metadata": {},
     "output_type": "execute_result"
    }
   ],
   "source": [
    "s1[2][::-1]\n",
    "s1"
   ]
  },
  {
   "cell_type": "code",
   "execution_count": 182,
   "id": "4553d7df",
   "metadata": {},
   "outputs": [
    {
     "data": {
      "text/plain": [
       "[55, 25, 100, 45, 36, 86]"
      ]
     },
     "execution_count": 182,
     "metadata": {},
     "output_type": "execute_result"
    }
   ],
   "source": [
    "s1[2]"
   ]
  },
  {
   "cell_type": "code",
   "execution_count": 183,
   "id": "0b9eb877",
   "metadata": {},
   "outputs": [
    {
     "data": {
      "text/plain": [
       "[45, 36, 86]"
      ]
     },
     "execution_count": 183,
     "metadata": {},
     "output_type": "execute_result"
    }
   ],
   "source": [
    "s1[2][3:6]"
   ]
  },
  {
   "cell_type": "code",
   "execution_count": 184,
   "id": "a4ae7a48",
   "metadata": {},
   "outputs": [
    {
     "data": {
      "text/plain": [
       "[69, 60, 50]"
      ]
     },
     "execution_count": 184,
     "metadata": {},
     "output_type": "execute_result"
    }
   ],
   "source": [
    "s1[3][::-1]"
   ]
  },
  {
   "cell_type": "markdown",
   "id": "cdfc533f",
   "metadata": {},
   "source": [
    "# tuple():"
   ]
  },
  {
   "cell_type": "markdown",
   "id": "4dbc2be9",
   "metadata": {},
   "source": [
    "### properties:"
   ]
  },
  {
   "cell_type": "markdown",
   "id": "c99e5275",
   "metadata": {},
   "source": [
    "* 'tuple' is one of the pre-defined class and treated as List data Type.\n",
    "* The purpose of tuple data type is that \"To  store Multiple Values either of Same type or Different  Types or Both Types with Unique and Duplicates in single object (Constant Values)\".\n",
    "* The elements of tuple must be stored or organized within braces ( ) and Elements separated by comma.\n",
    "* An object of tuple maintains Insertion Order \n",
    "* An object of tuple belongs to Immutable bcoz tuple' object does not support item assignment.\n",
    "* On the object of tuple, we can perform both Indexing and Slicing Operations.\n",
    "* In Python Programming, we have Two Types of tuple objects. They are\n",
    "\t\t\t1. empty tuple\n",
    "\t\t\t2. non-empty tuple\n"
   ]
  },
  {
   "cell_type": "markdown",
   "id": "80b7330d",
   "metadata": {},
   "source": [
    "**1. Empty tuple:**\n",
    "\n",
    "* An Empty tuple is one, which does not contains any elements and whose length is 0\n",
    "* Syntax:  tplobj=( )\n",
    "\t\t\tOR\n",
    "\t\t   tplobj=tuple()\t\n"
   ]
  },
  {
   "cell_type": "markdown",
   "id": "d6078795",
   "metadata": {},
   "source": [
    "**2. Non-Empty tuple:**\n",
    "\n",
    "=>An Non-Empty tuple is one, which  contains  elements and whose length > 0<br>\n",
    "**Examples:**\n",
    "\n",
    "\t\t\ttplobj=( Val1,Val2,......val-n )\n",
    "\t\t\t\t\t(OR)\n",
    "\t\t\ttplobj=tuple(object)\n",
    "\t\t\t\t\t(OR)\n",
    "\t\t\ttplobj=val1,val2....val-n"
   ]
  },
  {
   "cell_type": "markdown",
   "id": "1810f7b3",
   "metadata": {},
   "source": [
    "**NOTE: It is always recommended to Choose tuple data type for representing OR Storing Constant Values.**\n"
   ]
  },
  {
   "cell_type": "code",
   "execution_count": 1,
   "id": "0983496c",
   "metadata": {},
   "outputs": [
    {
     "name": "stdout",
     "output_type": "stream",
     "text": [
      "(10, 55, 20, 30, 48, 60, 25) <class 'tuple'> 1640201469472\n"
     ]
    }
   ],
   "source": [
    "t1=(10,55,20,30,48,60,25)\n",
    "print(t1,type(t1),id(t1))"
   ]
  },
  {
   "cell_type": "code",
   "execution_count": 2,
   "id": "d4d5b8b4",
   "metadata": {},
   "outputs": [
    {
     "name": "stdout",
     "output_type": "stream",
     "text": [
      "(10, 'pavan', True, (5+5j)) <class 'tuple'> 1640201912704\n"
     ]
    }
   ],
   "source": [
    "t2=(10,'pavan',True,5+5j)\n",
    "print(t2,type(t2),id(t2))"
   ]
  },
  {
   "cell_type": "code",
   "execution_count": 3,
   "id": "d41e9e90",
   "metadata": {},
   "outputs": [
    {
     "name": "stdout",
     "output_type": "stream",
     "text": [
      "(10, 'info', 2.5, True) <class 'tuple'> 1640201912864\n"
     ]
    }
   ],
   "source": [
    "t3=10,'info',2.5,True\n",
    "print(t3,type(t3),id(t3))"
   ]
  },
  {
   "cell_type": "code",
   "execution_count": 4,
   "id": "bafffe00",
   "metadata": {},
   "outputs": [
    {
     "name": "stdout",
     "output_type": "stream",
     "text": [
      "() <class 'tuple'>\n"
     ]
    }
   ],
   "source": [
    "t4=()\n",
    "print(t4,type(t4))"
   ]
  },
  {
   "cell_type": "code",
   "execution_count": 5,
   "id": "b7573410",
   "metadata": {},
   "outputs": [
    {
     "name": "stdout",
     "output_type": "stream",
     "text": [
      "() <class 'tuple'>\n"
     ]
    }
   ],
   "source": [
    "t=tuple()\n",
    "print(t,type(t))"
   ]
  },
  {
   "cell_type": "code",
   "execution_count": 7,
   "id": "b7140342",
   "metadata": {},
   "outputs": [
    {
     "data": {
      "text/plain": [
       "(10, 'pavan', True, (5+5j))"
      ]
     },
     "execution_count": 7,
     "metadata": {},
     "output_type": "execute_result"
    }
   ],
   "source": [
    "t2"
   ]
  },
  {
   "cell_type": "code",
   "execution_count": 8,
   "id": "05cfaad9",
   "metadata": {},
   "outputs": [
    {
     "data": {
      "text/plain": [
       "10"
      ]
     },
     "execution_count": 8,
     "metadata": {},
     "output_type": "execute_result"
    }
   ],
   "source": [
    "t2[0]"
   ]
  },
  {
   "cell_type": "code",
   "execution_count": 9,
   "id": "fd4fa162",
   "metadata": {},
   "outputs": [
    {
     "data": {
      "text/plain": [
       "(5+5j)"
      ]
     },
     "execution_count": 9,
     "metadata": {},
     "output_type": "execute_result"
    }
   ],
   "source": [
    "t2[-1]"
   ]
  },
  {
   "cell_type": "code",
   "execution_count": 10,
   "id": "9e5724b3",
   "metadata": {},
   "outputs": [
    {
     "ename": "TypeError",
     "evalue": "'tuple' object does not support item assignment",
     "output_type": "error",
     "traceback": [
      "\u001b[1;31m---------------------------------------------------------------------------\u001b[0m",
      "\u001b[1;31mTypeError\u001b[0m                                 Traceback (most recent call last)",
      "\u001b[1;32m~\\AppData\\Local\\Temp\\ipykernel_4560\\2910123081.py\u001b[0m in \u001b[0;36m<module>\u001b[1;34m\u001b[0m\n\u001b[1;32m----> 1\u001b[1;33m \u001b[0mt2\u001b[0m\u001b[1;33m[\u001b[0m\u001b[1;36m2\u001b[0m\u001b[1;33m]\u001b[0m\u001b[1;33m=\u001b[0m\u001b[1;36m100\u001b[0m\u001b[1;33m\u001b[0m\u001b[1;33m\u001b[0m\u001b[0m\n\u001b[0m",
      "\u001b[1;31mTypeError\u001b[0m: 'tuple' object does not support item assignment"
     ]
    }
   ],
   "source": [
    "t2[2]=100"
   ]
  },
  {
   "cell_type": "markdown",
   "id": "1b5bddf0",
   "metadata": {},
   "source": [
    "* We know that on the object of tuple we can perform Both Indexing and Slicing Operations.\n",
    "* Along with  these operations, we can also perform other operations by using the following \n",
    "    pre-defined  Functions.\n",
    "\n",
    "\t\t1)index()\n",
    "\t\t2)count()"
   ]
  },
  {
   "cell_type": "code",
   "execution_count": 1,
   "id": "6c767f29",
   "metadata": {},
   "outputs": [
    {
     "name": "stdout",
     "output_type": "stream",
     "text": [
      "(10, 'rs', True, (6+6j)) <class 'tuple'>\n"
     ]
    }
   ],
   "source": [
    "t1=(10,'rs',True,6+6j)\n",
    "print(t1,type(t1))"
   ]
  },
  {
   "cell_type": "code",
   "execution_count": 2,
   "id": "ca6e5392",
   "metadata": {},
   "outputs": [
    {
     "data": {
      "text/plain": [
       "0"
      ]
     },
     "execution_count": 2,
     "metadata": {},
     "output_type": "execute_result"
    }
   ],
   "source": [
    "t1.index(10)"
   ]
  },
  {
   "cell_type": "code",
   "execution_count": 3,
   "id": "26904719",
   "metadata": {},
   "outputs": [
    {
     "data": {
      "text/plain": [
       "2"
      ]
     },
     "execution_count": 3,
     "metadata": {},
     "output_type": "execute_result"
    }
   ],
   "source": [
    "t1.index(True)"
   ]
  },
  {
   "cell_type": "code",
   "execution_count": 4,
   "id": "119ba85e",
   "metadata": {},
   "outputs": [
    {
     "data": {
      "text/plain": [
       "(10, 20, 40, 20, 30, 50, 10, 20, 30)"
      ]
     },
     "execution_count": 4,
     "metadata": {},
     "output_type": "execute_result"
    }
   ],
   "source": [
    "t=(10,20,40,20,30,50,10,20,30)\n",
    "t"
   ]
  },
  {
   "cell_type": "code",
   "execution_count": 5,
   "id": "09c1d66e",
   "metadata": {},
   "outputs": [
    {
     "data": {
      "text/plain": [
       "2"
      ]
     },
     "execution_count": 5,
     "metadata": {},
     "output_type": "execute_result"
    }
   ],
   "source": [
    "t.count(10)"
   ]
  },
  {
   "cell_type": "code",
   "execution_count": 6,
   "id": "70ab1318",
   "metadata": {},
   "outputs": [
    {
     "data": {
      "text/plain": [
       "2"
      ]
     },
     "execution_count": 6,
     "metadata": {},
     "output_type": "execute_result"
    }
   ],
   "source": [
    "t.count(30)"
   ]
  },
  {
   "cell_type": "markdown",
   "id": "e8dde3ef",
   "metadata": {},
   "source": [
    "# INNER AND NESTED TUPLE"
   ]
  },
  {
   "cell_type": "markdown",
   "id": "76b65273",
   "metadata": {},
   "source": [
    "* The Process of Defining One tuple in another tuple is called Inner or Nested tuple\n",
    "* Syntax:- tplobj1=( Val1,Val2....(Val11,Val12....Val1n).....(Val21,Val22...Val2n)..........Val-n )\n",
    "* Here  (Val11,Val12....Val1n) is called One Inner OR Nested tuple\n",
    "\t      (Val21,Val22...Val2n)  is called another Inner OR Nested tuple\n",
    "* ( Val1,Val2....(Val11,Val12....Val1n).....(Val21,Val22...Val2n)....Val-n ) is called Outer tuple\n",
    "* All the pre-defined Functions of tuple can be applied on Inner or Nested tuple.\n",
    "* On Inner or Nested tuple we can perform Index and Slicing Operations."
   ]
  },
  {
   "cell_type": "code",
   "execution_count": 7,
   "id": "ac4458c7",
   "metadata": {},
   "outputs": [
    {
     "name": "stdout",
     "output_type": "stream",
     "text": [
      "(10, 'RS', (17, 18, 16), (78, 66, 79), 'OUCET') <class 'tuple'>\n"
     ]
    }
   ],
   "source": [
    "sf=(10,\"RS\",(17,18,16),(78,66,79),\"OUCET\")\n",
    "print(sf,type(sf))"
   ]
  },
  {
   "cell_type": "code",
   "execution_count": 8,
   "id": "01ea6ae2",
   "metadata": {},
   "outputs": [
    {
     "data": {
      "text/plain": [
       "10"
      ]
     },
     "execution_count": 8,
     "metadata": {},
     "output_type": "execute_result"
    }
   ],
   "source": [
    "sf[0]"
   ]
  },
  {
   "cell_type": "code",
   "execution_count": 9,
   "id": "e80b500b",
   "metadata": {},
   "outputs": [
    {
     "data": {
      "text/plain": [
       "(17, 18, 16)"
      ]
     },
     "execution_count": 9,
     "metadata": {},
     "output_type": "execute_result"
    }
   ],
   "source": [
    "sf[2]"
   ]
  },
  {
   "cell_type": "code",
   "execution_count": 10,
   "id": "cb2e3aa6",
   "metadata": {},
   "outputs": [
    {
     "data": {
      "text/plain": [
       "(10, 'RS', (17, 18, 16))"
      ]
     },
     "execution_count": 10,
     "metadata": {},
     "output_type": "execute_result"
    }
   ],
   "source": [
    "sf[0:3]"
   ]
  },
  {
   "cell_type": "code",
   "execution_count": 11,
   "id": "45cfcf8d",
   "metadata": {},
   "outputs": [
    {
     "name": "stdout",
     "output_type": "stream",
     "text": [
      "(10, 'RS', [17, 18, 16], (78, 66, 79), 'OUCET') <class 'tuple'>\n"
     ]
    }
   ],
   "source": [
    "sf=(10,\"RS\",[17,18,16],(78,66,79),\"OUCET\")\n",
    "print(sf,type(sf))"
   ]
  },
  {
   "cell_type": "code",
   "execution_count": 12,
   "id": "a0ace94e",
   "metadata": {},
   "outputs": [
    {
     "name": "stdout",
     "output_type": "stream",
     "text": [
      "[17, 18, 16] <class 'list'> <class 'tuple'>\n"
     ]
    }
   ],
   "source": [
    "print(sf[2],type(sf[2]),type(sf))"
   ]
  },
  {
   "cell_type": "code",
   "execution_count": 13,
   "id": "699a69c5",
   "metadata": {},
   "outputs": [],
   "source": [
    "sf[2].append(12)"
   ]
  },
  {
   "cell_type": "code",
   "execution_count": 14,
   "id": "c0561e79",
   "metadata": {},
   "outputs": [
    {
     "data": {
      "text/plain": [
       "(10, 'RS', [17, 18, 16, 12], (78, 66, 79), 'OUCET')"
      ]
     },
     "execution_count": 14,
     "metadata": {},
     "output_type": "execute_result"
    }
   ],
   "source": [
    "sf"
   ]
  },
  {
   "cell_type": "code",
   "execution_count": 15,
   "id": "93dff9d0",
   "metadata": {},
   "outputs": [
    {
     "name": "stdout",
     "output_type": "stream",
     "text": [
      "[17, 18, 16, 12] <class 'list'> <class 'tuple'>\n"
     ]
    }
   ],
   "source": [
    "print(sf[2],type(sf[2]),type(sf))"
   ]
  },
  {
   "cell_type": "code",
   "execution_count": 16,
   "id": "de1ee367",
   "metadata": {},
   "outputs": [
    {
     "name": "stdout",
     "output_type": "stream",
     "text": [
      "(78, 66, 79) <class 'tuple'> <class 'tuple'>\n"
     ]
    }
   ],
   "source": [
    "print(sf[3],type(sf[3]),type(sf))"
   ]
  },
  {
   "cell_type": "markdown",
   "id": "bd9a1197",
   "metadata": {},
   "source": [
    "NOTE:\n",
    "\n",
    "*  One can define One List in another List\n",
    "* One can define One Tuple in another Tuple\n",
    "* One can define One List in another Tuple ( tuple of lists)\n",
    "* One can define One tuple in another List (list of tuples)\n"
   ]
  },
  {
   "cell_type": "code",
   "execution_count": 17,
   "id": "1a9ced39",
   "metadata": {},
   "outputs": [
    {
     "data": {
      "text/plain": [
       "(10, 'Rossum', [16, 18, 17], ('CSE', 'AI', 'DS'), 'OUCET')"
      ]
     },
     "execution_count": 17,
     "metadata": {},
     "output_type": "execute_result"
    }
   ],
   "source": [
    "t1=(10, 'Rossum', [16, 18, 17], ('CSE', 'AI', 'DS'), 'OUCET') \n",
    "t1"
   ]
  },
  {
   "cell_type": "code",
   "execution_count": 18,
   "id": "2a4a39d0",
   "metadata": {},
   "outputs": [
    {
     "name": "stdout",
     "output_type": "stream",
     "text": [
      "[16, 18, 17] <class 'list'>\n"
     ]
    }
   ],
   "source": [
    "print(t1[2],type(t1[2]))"
   ]
  },
  {
   "cell_type": "code",
   "execution_count": 19,
   "id": "446448ee",
   "metadata": {},
   "outputs": [
    {
     "name": "stdout",
     "output_type": "stream",
     "text": [
      "('CSE', 'AI', 'DS') <class 'tuple'>\n"
     ]
    }
   ],
   "source": [
    "print(t1[3],type(t1[3]))"
   ]
  },
  {
   "cell_type": "code",
   "execution_count": 20,
   "id": "e2248175",
   "metadata": {},
   "outputs": [
    {
     "data": {
      "text/plain": [
       "(10, 'Rossum', [16, 18, 17, 'hy'], ('CSE', 'AI', 'DS'), 'OUCET')"
      ]
     },
     "execution_count": 20,
     "metadata": {},
     "output_type": "execute_result"
    }
   ],
   "source": [
    "t1[2].append('hy')\n",
    "t1"
   ]
  },
  {
   "cell_type": "code",
   "execution_count": 21,
   "id": "03e31996",
   "metadata": {},
   "outputs": [
    {
     "data": {
      "text/plain": [
       "17"
      ]
     },
     "execution_count": 21,
     "metadata": {},
     "output_type": "execute_result"
    }
   ],
   "source": [
    "t1[2][2]"
   ]
  },
  {
   "cell_type": "code",
   "execution_count": 22,
   "id": "4a8bcca7",
   "metadata": {},
   "outputs": [
    {
     "data": {
      "text/plain": [
       "'DS'"
      ]
     },
     "execution_count": 22,
     "metadata": {},
     "output_type": "execute_result"
    }
   ],
   "source": [
    "t1[3][2]"
   ]
  },
  {
   "cell_type": "markdown",
   "id": "d9aec94c",
   "metadata": {},
   "source": [
    "# set()"
   ]
  },
  {
   "cell_type": "markdown",
   "id": "ef28cff6",
   "metadata": {},
   "source": [
    "### properties:"
   ]
  },
  {
   "cell_type": "markdown",
   "id": "7dbbbfaf",
   "metadata": {},
   "source": [
    "* 'set' is a pre-defined class and treated as set data type.\n",
    "* The purpose of set data type is that \"To Store Multiple Values either of Same Type or Different type or Both the Types into single object with Unique Values (Duplicates are not allowed)\".\n",
    "* The Elements / Data of set Must be Organized OR Stored within Curly Braces {} and the Values must  be  separted by comma.\n",
    "* An object of set never maintains Insertion Order bcoz set can display any Possibility of elements of set (Set Elements are Un-ordered).\n",
    "* On the object of set , we can't perform Indexing and Slicing Operations bcoz set never maintains Insertion Order.\n",
    "* An object of set belongs to Both Mutable  in the case of adding the elements and Immutable in the case of Item Assignment.\n",
    "* We can create types of set objects. they  are\n",
    "            1. empty set\n",
    "            2. non-empty set\n"
   ]
  },
  {
   "cell_type": "markdown",
   "id": "e8c78c13",
   "metadata": {},
   "source": [
    "**1.empty set**\n",
    "\n",
    "* An empty set is one, which does not contains elements and whose length is 0\n",
    "* Syntax:     setobj=set()\n"
   ]
  },
  {
   "cell_type": "markdown",
   "id": "3d3f3322",
   "metadata": {},
   "source": [
    "**2. non-empty set**\n",
    "\n",
    "* A non-empty set is one, which  contains elements and whose length is >0\n",
    "* Syntax:     setobj={Val1,Val2.....Val-n}\n",
    "\t\t\t\t\tOR\n",
    "\t\t     setobj=set(object)\t\n"
   ]
  },
  {
   "cell_type": "code",
   "execution_count": 4,
   "id": "6782a2da",
   "metadata": {},
   "outputs": [
    {
     "name": "stdout",
     "output_type": "stream",
     "text": [
      "{40, 10, 20, 30} <class 'set'> 2252268521728\n"
     ]
    }
   ],
   "source": [
    "s={10,20,30,40,10,30,40}\n",
    "print(s,type(s),id(s))"
   ]
  },
  {
   "cell_type": "code",
   "execution_count": 5,
   "id": "6206c0d5",
   "metadata": {},
   "outputs": [
    {
     "name": "stdout",
     "output_type": "stream",
     "text": [
      "{True, 10, 'kl', 'python'} <class 'set'>\n"
     ]
    }
   ],
   "source": [
    "s1={10,'kl',True,1,'python'}\n",
    "print(s1,type(s1))"
   ]
  },
  {
   "cell_type": "code",
   "execution_count": 6,
   "id": "8fd490fb",
   "metadata": {},
   "outputs": [
    {
     "ename": "TypeError",
     "evalue": "'set' object is not subscriptable",
     "output_type": "error",
     "traceback": [
      "\u001b[1;31m---------------------------------------------------------------------------\u001b[0m",
      "\u001b[1;31mTypeError\u001b[0m                                 Traceback (most recent call last)",
      "\u001b[1;32m~\\AppData\\Local\\Temp\\ipykernel_20468\\243613605.py\u001b[0m in \u001b[0;36m<module>\u001b[1;34m\u001b[0m\n\u001b[1;32m----> 1\u001b[1;33m \u001b[0ms\u001b[0m\u001b[1;33m[\u001b[0m\u001b[1;36m0\u001b[0m\u001b[1;33m]\u001b[0m\u001b[1;33m\u001b[0m\u001b[1;33m\u001b[0m\u001b[0m\n\u001b[0m",
      "\u001b[1;31mTypeError\u001b[0m: 'set' object is not subscriptable"
     ]
    }
   ],
   "source": [
    "s[0]"
   ]
  },
  {
   "cell_type": "code",
   "execution_count": 7,
   "id": "ca4364a6",
   "metadata": {},
   "outputs": [
    {
     "data": {
      "text/plain": [
       "{10, True, 'kl', 'python'}"
      ]
     },
     "execution_count": 7,
     "metadata": {},
     "output_type": "execute_result"
    }
   ],
   "source": [
    "s1"
   ]
  },
  {
   "cell_type": "code",
   "execution_count": 8,
   "id": "3044f359",
   "metadata": {},
   "outputs": [
    {
     "ename": "TypeError",
     "evalue": "'set' object does not support item assignment",
     "output_type": "error",
     "traceback": [
      "\u001b[1;31m---------------------------------------------------------------------------\u001b[0m",
      "\u001b[1;31mTypeError\u001b[0m                                 Traceback (most recent call last)",
      "\u001b[1;32m~\\AppData\\Local\\Temp\\ipykernel_20468\\515713078.py\u001b[0m in \u001b[0;36m<module>\u001b[1;34m\u001b[0m\n\u001b[1;32m----> 1\u001b[1;33m \u001b[0ms1\u001b[0m\u001b[1;33m[\u001b[0m\u001b[1;33m-\u001b[0m\u001b[1;36m1\u001b[0m\u001b[1;33m]\u001b[0m\u001b[1;33m=\u001b[0m\u001b[1;36m15\u001b[0m\u001b[1;33m\u001b[0m\u001b[1;33m\u001b[0m\u001b[0m\n\u001b[0m\u001b[0;32m      2\u001b[0m \u001b[0ms1\u001b[0m\u001b[1;33m\u001b[0m\u001b[1;33m\u001b[0m\u001b[0m\n",
      "\u001b[1;31mTypeError\u001b[0m: 'set' object does not support item assignment"
     ]
    }
   ],
   "source": [
    "s1[-1]=15\n",
    "s1"
   ]
  },
  {
   "cell_type": "code",
   "execution_count": 9,
   "id": "5d259322",
   "metadata": {},
   "outputs": [
    {
     "data": {
      "text/plain": [
       "{10, 100, True, 'kl', 'python'}"
      ]
     },
     "execution_count": 9,
     "metadata": {},
     "output_type": "execute_result"
    }
   ],
   "source": [
    "s1.add(100)\n",
    "s1"
   ]
  },
  {
   "cell_type": "code",
   "execution_count": 10,
   "id": "1785e13e",
   "metadata": {},
   "outputs": [
    {
     "name": "stdout",
     "output_type": "stream",
     "text": [
      "set() <class 'set'>\n"
     ]
    }
   ],
   "source": [
    "s=set()\n",
    "print(s,type(s))"
   ]
  },
  {
   "cell_type": "code",
   "execution_count": 11,
   "id": "617df5b6",
   "metadata": {},
   "outputs": [
    {
     "name": "stdout",
     "output_type": "stream",
     "text": [
      "{} <class 'dict'>\n"
     ]
    }
   ],
   "source": [
    "s={}\n",
    "print(s,type(s))"
   ]
  },
  {
   "cell_type": "code",
   "execution_count": 12,
   "id": "ec666561",
   "metadata": {},
   "outputs": [
    {
     "data": {
      "text/plain": [
       "[1, 5, 8, 6, 4, 30]"
      ]
     },
     "execution_count": 12,
     "metadata": {},
     "output_type": "execute_result"
    }
   ],
   "source": [
    "l=[1,5,8,6,4,30]\n",
    "l"
   ]
  },
  {
   "cell_type": "code",
   "execution_count": 13,
   "id": "16a0e245",
   "metadata": {},
   "outputs": [
    {
     "name": "stdout",
     "output_type": "stream",
     "text": [
      "{1, 4, 5, 6, 8, 30} <class 'set'>\n"
     ]
    }
   ],
   "source": [
    "s=set(l)\n",
    "print(s,type(s))"
   ]
  },
  {
   "cell_type": "markdown",
   "id": "7ee51a5f",
   "metadata": {},
   "source": [
    "**To perform Various Operations on set object, we use the following Pre-defined Functions which are present in set object.**\n"
   ]
  },
  {
   "cell_type": "markdown",
   "id": "8f3fc046",
   "metadata": {},
   "source": [
    "## 1.clear()"
   ]
  },
  {
   "cell_type": "markdown",
   "id": "098670df",
   "metadata": {},
   "source": [
    "* Syntax:   setobj.clear()\n",
    "* This Function is used for removing all elements of set \n",
    "* When we call this function upon empty set object then we get None.\n"
   ]
  },
  {
   "cell_type": "code",
   "execution_count": 14,
   "id": "25b4500e",
   "metadata": {},
   "outputs": [
    {
     "data": {
      "text/plain": [
       "{10, 100, True, 'kl', 'python'}"
      ]
     },
     "execution_count": 14,
     "metadata": {},
     "output_type": "execute_result"
    }
   ],
   "source": [
    "s1"
   ]
  },
  {
   "cell_type": "code",
   "execution_count": 15,
   "id": "56cf6b81",
   "metadata": {},
   "outputs": [
    {
     "data": {
      "text/plain": [
       "5"
      ]
     },
     "execution_count": 15,
     "metadata": {},
     "output_type": "execute_result"
    }
   ],
   "source": [
    "len(s1)"
   ]
  },
  {
   "cell_type": "code",
   "execution_count": 16,
   "id": "987ff2db",
   "metadata": {},
   "outputs": [],
   "source": [
    "s1.clear()"
   ]
  },
  {
   "cell_type": "code",
   "execution_count": 17,
   "id": "ff98ec6e",
   "metadata": {},
   "outputs": [
    {
     "name": "stdout",
     "output_type": "stream",
     "text": [
      "set() <class 'set'> 2252268522400\n"
     ]
    }
   ],
   "source": [
    "print(s1,type(s1),id(s1))"
   ]
  },
  {
   "cell_type": "code",
   "execution_count": 18,
   "id": "c3e2c077",
   "metadata": {},
   "outputs": [
    {
     "name": "stdout",
     "output_type": "stream",
     "text": [
      "None\n"
     ]
    }
   ],
   "source": [
    "print(s1.clear())"
   ]
  },
  {
   "cell_type": "markdown",
   "id": "30805317",
   "metadata": {},
   "source": [
    "### 2.add()"
   ]
  },
  {
   "cell_type": "markdown",
   "id": "c6346d27",
   "metadata": {},
   "source": [
    "* Syntax:     setobj.add(Value)\n",
    "* This Function is used for adding the values to the set object.\n"
   ]
  },
  {
   "cell_type": "code",
   "execution_count": 19,
   "id": "4c9ece1a",
   "metadata": {},
   "outputs": [
    {
     "name": "stdout",
     "output_type": "stream",
     "text": [
      "{'rs', 10} <class 'set'> 2252268523072\n"
     ]
    }
   ],
   "source": [
    "s={10,'rs'}\n",
    "print(s,type(s),id(s))"
   ]
  },
  {
   "cell_type": "code",
   "execution_count": 20,
   "id": "221acbd7",
   "metadata": {},
   "outputs": [],
   "source": [
    "s.add('python')"
   ]
  },
  {
   "cell_type": "code",
   "execution_count": 21,
   "id": "54a1b9d3",
   "metadata": {},
   "outputs": [
    {
     "data": {
      "text/plain": [
       "{10, 'python', 'rs'}"
      ]
     },
     "execution_count": 21,
     "metadata": {},
     "output_type": "execute_result"
    }
   ],
   "source": [
    "s"
   ]
  },
  {
   "cell_type": "code",
   "execution_count": 22,
   "id": "4f292acb",
   "metadata": {},
   "outputs": [
    {
     "name": "stdout",
     "output_type": "stream",
     "text": [
      "{'rs', 65, 10, 'python'} <class 'set'> 2252268523072\n"
     ]
    }
   ],
   "source": [
    "s.add(65)\n",
    "print(s,type(s),id(s))"
   ]
  },
  {
   "cell_type": "code",
   "execution_count": 23,
   "id": "6e6fa0ac",
   "metadata": {},
   "outputs": [
    {
     "name": "stdout",
     "output_type": "stream",
     "text": [
      "set() <class 'set'>\n"
     ]
    }
   ],
   "source": [
    "s1=set()\n",
    "print(s1,type(s1))"
   ]
  },
  {
   "cell_type": "code",
   "execution_count": 24,
   "id": "71c5477e",
   "metadata": {},
   "outputs": [
    {
     "data": {
      "text/plain": [
       "{0}"
      ]
     },
     "execution_count": 24,
     "metadata": {},
     "output_type": "execute_result"
    }
   ],
   "source": [
    "s1.add(0)\n",
    "s1"
   ]
  },
  {
   "cell_type": "code",
   "execution_count": 25,
   "id": "5735419d",
   "metadata": {},
   "outputs": [
    {
     "data": {
      "text/plain": [
       "{0, 'python'}"
      ]
     },
     "execution_count": 25,
     "metadata": {},
     "output_type": "execute_result"
    }
   ],
   "source": [
    "s1.add('python')\n",
    "s1"
   ]
  },
  {
   "cell_type": "markdown",
   "id": "4e8ad30c",
   "metadata": {},
   "source": [
    "### 3.remove()"
   ]
  },
  {
   "cell_type": "markdown",
   "id": "c9bf3b7d",
   "metadata": {},
   "source": [
    "* Syntax:    setobj.remove(Value)\n",
    "* This Function is used for Removing the Specified Value from set object.\n",
    "* If the Specified Value does not exist then we get KeyError\n"
   ]
  },
  {
   "cell_type": "code",
   "execution_count": 26,
   "id": "a716476b",
   "metadata": {},
   "outputs": [
    {
     "name": "stdout",
     "output_type": "stream",
     "text": [
      "{True, 34.56, 'Rossum', 10, 'Python'} <class 'set'> 2252268523296\n"
     ]
    }
   ],
   "source": [
    "s2={10,\"Rossum\",34.56,\"Python\",True}\n",
    "print(s2,type(s2),id(s2))"
   ]
  },
  {
   "cell_type": "code",
   "execution_count": 27,
   "id": "95a0b86c",
   "metadata": {},
   "outputs": [
    {
     "name": "stdout",
     "output_type": "stream",
     "text": [
      "{34.56, 'Rossum', 10, 'Python'} <class 'set'> 2252268523296\n"
     ]
    }
   ],
   "source": [
    "s2.remove(True)\n",
    "print(s2,type(s2),id(s2))"
   ]
  },
  {
   "cell_type": "code",
   "execution_count": 29,
   "id": "3c52284c",
   "metadata": {},
   "outputs": [
    {
     "name": "stdout",
     "output_type": "stream",
     "text": [
      "{34.56, 'Rossum', 10} <class 'set'> 2252268523296\n"
     ]
    }
   ],
   "source": [
    "s2.remove(\"Python\")\n",
    "print(s2,type(s2),id(s2))"
   ]
  },
  {
   "cell_type": "code",
   "execution_count": 30,
   "id": "9219f123",
   "metadata": {},
   "outputs": [
    {
     "name": "stdout",
     "output_type": "stream",
     "text": [
      "{34.56, 'Rossum', 10} <class 'set'> 2252268523296\n"
     ]
    }
   ],
   "source": [
    "print(s2,type(s2),id(s2))"
   ]
  },
  {
   "cell_type": "code",
   "execution_count": 31,
   "id": "c4655242",
   "metadata": {},
   "outputs": [
    {
     "name": "stdout",
     "output_type": "stream",
     "text": [
      "set()\n"
     ]
    }
   ],
   "source": [
    "s=set()\n",
    "print(s)"
   ]
  },
  {
   "cell_type": "code",
   "execution_count": 32,
   "id": "f8220689",
   "metadata": {},
   "outputs": [
    {
     "ename": "KeyError",
     "evalue": "10",
     "output_type": "error",
     "traceback": [
      "\u001b[1;31m---------------------------------------------------------------------------\u001b[0m",
      "\u001b[1;31mKeyError\u001b[0m                                  Traceback (most recent call last)",
      "\u001b[1;32m~\\AppData\\Local\\Temp\\ipykernel_20468\\2282197034.py\u001b[0m in \u001b[0;36m<module>\u001b[1;34m\u001b[0m\n\u001b[1;32m----> 1\u001b[1;33m \u001b[0ms\u001b[0m\u001b[1;33m.\u001b[0m\u001b[0mremove\u001b[0m\u001b[1;33m(\u001b[0m\u001b[1;36m10\u001b[0m\u001b[1;33m)\u001b[0m\u001b[1;33m\u001b[0m\u001b[1;33m\u001b[0m\u001b[0m\n\u001b[0m\u001b[0;32m      2\u001b[0m \u001b[0ms\u001b[0m\u001b[1;33m\u001b[0m\u001b[1;33m\u001b[0m\u001b[0m\n",
      "\u001b[1;31mKeyError\u001b[0m: 10"
     ]
    }
   ],
   "source": [
    "s.remove(10)\n",
    "s"
   ]
  },
  {
   "cell_type": "markdown",
   "id": "db8ddd34",
   "metadata": {},
   "source": [
    "### 4.discard()"
   ]
  },
  {
   "cell_type": "markdown",
   "id": "7ed0bdd3",
   "metadata": {},
   "source": [
    "* Syntax:    setobj.discard(Value)\n",
    "* This Function is used for Removing the Specified Value from set object.\n",
    "* **If the Specified Value does not exist then we never get KeyError**"
   ]
  },
  {
   "cell_type": "code",
   "execution_count": 33,
   "id": "91cb9ade",
   "metadata": {},
   "outputs": [
    {
     "name": "stdout",
     "output_type": "stream",
     "text": [
      "{True, 34.56, 'Rossum', 10, 'Python'} <class 'set'> 2252268522624\n"
     ]
    }
   ],
   "source": [
    "s2={10,\"Rossum\",34.56,\"Python\",True}\n",
    "print(s2,type(s2),id(s2))"
   ]
  },
  {
   "cell_type": "code",
   "execution_count": 34,
   "id": "c6d2e9d0",
   "metadata": {},
   "outputs": [
    {
     "name": "stdout",
     "output_type": "stream",
     "text": [
      "{True, 34.56, 'Rossum', 'Python'} <class 'set'> 2252268522624\n"
     ]
    }
   ],
   "source": [
    "s2.discard(10)\n",
    "print(s2,type(s2),id(s2))"
   ]
  },
  {
   "cell_type": "code",
   "execution_count": 35,
   "id": "0f18329f",
   "metadata": {},
   "outputs": [
    {
     "name": "stdout",
     "output_type": "stream",
     "text": [
      "{True, 34.56, 'Rossum', 'Python'} <class 'set'> 2252268522624\n"
     ]
    }
   ],
   "source": [
    "s2.discard(11)\n",
    "print(s2,type(s2),id(s2))"
   ]
  },
  {
   "cell_type": "code",
   "execution_count": 36,
   "id": "129d9bea",
   "metadata": {},
   "outputs": [
    {
     "ename": "KeyError",
     "evalue": "11",
     "output_type": "error",
     "traceback": [
      "\u001b[1;31m---------------------------------------------------------------------------\u001b[0m",
      "\u001b[1;31mKeyError\u001b[0m                                  Traceback (most recent call last)",
      "\u001b[1;32m~\\AppData\\Local\\Temp\\ipykernel_20468\\1794392469.py\u001b[0m in \u001b[0;36m<module>\u001b[1;34m\u001b[0m\n\u001b[1;32m----> 1\u001b[1;33m \u001b[0ms2\u001b[0m\u001b[1;33m.\u001b[0m\u001b[0mremove\u001b[0m\u001b[1;33m(\u001b[0m\u001b[1;36m11\u001b[0m\u001b[1;33m)\u001b[0m\u001b[1;33m\u001b[0m\u001b[1;33m\u001b[0m\u001b[0m\n\u001b[0m\u001b[0;32m      2\u001b[0m \u001b[0mprint\u001b[0m\u001b[1;33m(\u001b[0m\u001b[0ms2\u001b[0m\u001b[1;33m,\u001b[0m\u001b[0mtype\u001b[0m\u001b[1;33m(\u001b[0m\u001b[0ms2\u001b[0m\u001b[1;33m)\u001b[0m\u001b[1;33m,\u001b[0m\u001b[0mid\u001b[0m\u001b[1;33m(\u001b[0m\u001b[0ms2\u001b[0m\u001b[1;33m)\u001b[0m\u001b[1;33m)\u001b[0m\u001b[1;33m\u001b[0m\u001b[1;33m\u001b[0m\u001b[0m\n",
      "\u001b[1;31mKeyError\u001b[0m: 11"
     ]
    }
   ],
   "source": [
    "s2.remove(11)\n",
    "print(s2,type(s2),id(s2))"
   ]
  },
  {
   "cell_type": "markdown",
   "id": "1ba49ad2",
   "metadata": {},
   "source": [
    "### 5.pop()"
   ]
  },
  {
   "cell_type": "markdown",
   "id": "a3a732bf",
   "metadata": {},
   "source": [
    "* Syntax:    setobject.pop()\n",
    "* This Function is used for removing any Arbitary Element from Non-Empty Set.\n",
    "* If we call this function on empty set object then we get KeyError\n"
   ]
  },
  {
   "cell_type": "code",
   "execution_count": 37,
   "id": "4ad6b4f1",
   "metadata": {},
   "outputs": [
    {
     "name": "stdout",
     "output_type": "stream",
     "text": [
      "{70, 40, 10, 80, 50, 22, 55, 30} <class 'set'> 2252268523296\n"
     ]
    }
   ],
   "source": [
    "s2={10,50,40,30,80,70,30,22,55}\n",
    "print(s2,type(s2),id(s2))"
   ]
  },
  {
   "cell_type": "code",
   "execution_count": 38,
   "id": "dc257e1c",
   "metadata": {},
   "outputs": [
    {
     "data": {
      "text/plain": [
       "70"
      ]
     },
     "execution_count": 38,
     "metadata": {},
     "output_type": "execute_result"
    }
   ],
   "source": [
    "s2.pop()"
   ]
  },
  {
   "cell_type": "code",
   "execution_count": 39,
   "id": "d608c884",
   "metadata": {},
   "outputs": [
    {
     "data": {
      "text/plain": [
       "40"
      ]
     },
     "execution_count": 39,
     "metadata": {},
     "output_type": "execute_result"
    }
   ],
   "source": [
    "s2.pop()"
   ]
  },
  {
   "cell_type": "code",
   "execution_count": 40,
   "id": "fdaa93e5",
   "metadata": {},
   "outputs": [
    {
     "data": {
      "text/plain": [
       "10"
      ]
     },
     "execution_count": 40,
     "metadata": {},
     "output_type": "execute_result"
    }
   ],
   "source": [
    "s2.pop()"
   ]
  },
  {
   "cell_type": "code",
   "execution_count": 41,
   "id": "fee2fad5",
   "metadata": {},
   "outputs": [
    {
     "ename": "KeyError",
     "evalue": "'pop from an empty set'",
     "output_type": "error",
     "traceback": [
      "\u001b[1;31m---------------------------------------------------------------------------\u001b[0m",
      "\u001b[1;31mKeyError\u001b[0m                                  Traceback (most recent call last)",
      "\u001b[1;32m~\\AppData\\Local\\Temp\\ipykernel_20468\\1090397566.py\u001b[0m in \u001b[0;36m<module>\u001b[1;34m\u001b[0m\n\u001b[0;32m      1\u001b[0m \u001b[0ms\u001b[0m\u001b[1;33m=\u001b[0m\u001b[0mset\u001b[0m\u001b[1;33m(\u001b[0m\u001b[1;33m)\u001b[0m\u001b[1;33m\u001b[0m\u001b[1;33m\u001b[0m\u001b[0m\n\u001b[1;32m----> 2\u001b[1;33m \u001b[0ms\u001b[0m\u001b[1;33m.\u001b[0m\u001b[0mpop\u001b[0m\u001b[1;33m(\u001b[0m\u001b[1;33m)\u001b[0m\u001b[1;33m\u001b[0m\u001b[1;33m\u001b[0m\u001b[0m\n\u001b[0m",
      "\u001b[1;31mKeyError\u001b[0m: 'pop from an empty set'"
     ]
    }
   ],
   "source": [
    "s=set()\n",
    "s.pop()"
   ]
  },
  {
   "cell_type": "markdown",
   "id": "d008f480",
   "metadata": {},
   "source": [
    "### 6.copy()"
   ]
  },
  {
   "cell_type": "markdown",
   "id": "50a92707",
   "metadata": {},
   "source": [
    "* Syntax:   setobj2=setobj1.copy()\n",
    "* This Function is used for copying the content of one set object to another set object.\n"
   ]
  },
  {
   "cell_type": "code",
   "execution_count": 42,
   "id": "2f275f24",
   "metadata": {},
   "outputs": [
    {
     "name": "stdout",
     "output_type": "stream",
     "text": [
      "{20, 55, 40, 10, 88, 30} <class 'set'> 2252268522176\n"
     ]
    }
   ],
   "source": [
    "s={10,55,20,40,88,30,55}\n",
    "print(s,type(s),id(s))"
   ]
  },
  {
   "cell_type": "code",
   "execution_count": 43,
   "id": "e0d9aaeb",
   "metadata": {},
   "outputs": [
    {
     "name": "stdout",
     "output_type": "stream",
     "text": [
      "{20, 55, 40, 10, 88, 30} <class 'set'> 2252268522624\n"
     ]
    }
   ],
   "source": [
    "s1=s.copy()\n",
    "print(s1,type(s1),id(s1))"
   ]
  },
  {
   "cell_type": "code",
   "execution_count": 44,
   "id": "257f6078",
   "metadata": {},
   "outputs": [
    {
     "name": "stdout",
     "output_type": "stream",
     "text": [
      "{20, 100, 55, 40, 10, 88, 30} <class 'set'> 2252268522176\n"
     ]
    }
   ],
   "source": [
    "s.add(100)\n",
    "print(s,type(s),id(s))"
   ]
  },
  {
   "cell_type": "code",
   "execution_count": 45,
   "id": "78d4a547",
   "metadata": {},
   "outputs": [
    {
     "name": "stdout",
     "output_type": "stream",
     "text": [
      "{20, 55, 40, 10, 88, 30, 200} <class 'set'> 2252268522624\n"
     ]
    }
   ],
   "source": [
    "s1.add(200)\n",
    "print(s1,type(s1),id(s1))"
   ]
  },
  {
   "cell_type": "markdown",
   "id": "daf269bc",
   "metadata": {},
   "source": [
    "### 7.isdisjoint()"
   ]
  },
  {
   "cell_type": "markdown",
   "id": "4c1c3dad",
   "metadata": {},
   "source": [
    "* Syntax:    setobj1.isdisjoint(setobj2)\n",
    "* This Function returns True provided setobj1 and setobj2 are disjoint(There is no Common Element).\n",
    "* This Function returns False provided setobj1 and setobj2 are joint(There is a Common Element)."
   ]
  },
  {
   "cell_type": "code",
   "execution_count": 47,
   "id": "b003d24c",
   "metadata": {},
   "outputs": [
    {
     "name": "stdout",
     "output_type": "stream",
     "text": [
      "{1, 2, 3, 4, 5} {4, 5, 6, 7, 8} {33, 22, 55, 11, 44}\n"
     ]
    }
   ],
   "source": [
    "s1={1,2,3,4,5}\n",
    "s2={4,5,6,7,8}\n",
    "s3={11,22,33,44,55}\n",
    "print(s1,s2,s3)"
   ]
  },
  {
   "cell_type": "code",
   "execution_count": 48,
   "id": "aaa30224",
   "metadata": {},
   "outputs": [
    {
     "data": {
      "text/plain": [
       "False"
      ]
     },
     "execution_count": 48,
     "metadata": {},
     "output_type": "execute_result"
    }
   ],
   "source": [
    "s1.isdisjoint(s2)"
   ]
  },
  {
   "cell_type": "code",
   "execution_count": 49,
   "id": "e4412c7d",
   "metadata": {},
   "outputs": [
    {
     "data": {
      "text/plain": [
       "True"
      ]
     },
     "execution_count": 49,
     "metadata": {},
     "output_type": "execute_result"
    }
   ],
   "source": [
    "s1.isdisjoint(s3)"
   ]
  },
  {
   "cell_type": "markdown",
   "id": "f8835699",
   "metadata": {},
   "source": [
    "### 8. issubset()"
   ]
  },
  {
   "cell_type": "markdown",
   "id": "663bcecf",
   "metadata": {},
   "source": [
    "* Syntax:   setobj1.issubset(setobj2)\n",
    "* This Function Returns True Provided all Elements of setobj1 are present in setobj2 \n",
    "* This Function Returns False Provid"
   ]
  },
  {
   "cell_type": "code",
   "execution_count": 51,
   "id": "03a8e352",
   "metadata": {},
   "outputs": [
    {
     "name": "stdout",
     "output_type": "stream",
     "text": [
      "{1, 2, 3, 4, 5} {4, 5, 6, 7, 8} {33, 22, 55, 11, 44} {1, 2, 3, 4, 5, 6, 7, 8}\n"
     ]
    }
   ],
   "source": [
    "s1={1,2,3,4,5}\n",
    "s2={4,5,6,7,8}\n",
    "s3={11,22,33,44,55}\n",
    "s4=set(range(1,9))\n",
    "print(s1,s2,s3,s4)"
   ]
  },
  {
   "cell_type": "code",
   "execution_count": 52,
   "id": "6530f867",
   "metadata": {},
   "outputs": [
    {
     "data": {
      "text/plain": [
       "False"
      ]
     },
     "execution_count": 52,
     "metadata": {},
     "output_type": "execute_result"
    }
   ],
   "source": [
    "s1.issubset(s2)"
   ]
  },
  {
   "cell_type": "code",
   "execution_count": 53,
   "id": "cd34baa5",
   "metadata": {},
   "outputs": [
    {
     "data": {
      "text/plain": [
       "True"
      ]
     },
     "execution_count": 53,
     "metadata": {},
     "output_type": "execute_result"
    }
   ],
   "source": [
    "s1.issubset(s4)"
   ]
  },
  {
   "cell_type": "markdown",
   "id": "94bab6da",
   "metadata": {},
   "source": [
    "### 9.issuperset()"
   ]
  },
  {
   "cell_type": "markdown",
   "id": "8f8f4157",
   "metadata": {},
   "source": [
    "* Syntax:     setobj1.issuperset(setobj2)\n",
    "* This Function returns True provided setobj1 contains all the elements of setobj2\n",
    "* This Function returns False provided setobj1 not containing all the elements of setobj2"
   ]
  },
  {
   "cell_type": "code",
   "execution_count": 54,
   "id": "64b35d0d",
   "metadata": {},
   "outputs": [
    {
     "name": "stdout",
     "output_type": "stream",
     "text": [
      "{1, 2, 3, 4, 5} {4, 5, 6, 7, 8} {33, 22, 55, 11, 44} {1, 2, 3, 4, 5, 6, 7, 8}\n"
     ]
    }
   ],
   "source": [
    "s1={1,2,3,4,5}\n",
    "s2={4,5,6,7,8}\n",
    "s3={11,22,33,44,55}\n",
    "s4=set(range(1,9))\n",
    "print(s1,s2,s3,s4)"
   ]
  },
  {
   "cell_type": "code",
   "execution_count": 58,
   "id": "28b8e136",
   "metadata": {},
   "outputs": [
    {
     "data": {
      "text/plain": [
       "True"
      ]
     },
     "execution_count": 58,
     "metadata": {},
     "output_type": "execute_result"
    }
   ],
   "source": [
    "s4.issuperset(s1)"
   ]
  },
  {
   "cell_type": "code",
   "execution_count": 59,
   "id": "12047462",
   "metadata": {},
   "outputs": [
    {
     "data": {
      "text/plain": [
       "False"
      ]
     },
     "execution_count": 59,
     "metadata": {},
     "output_type": "execute_result"
    }
   ],
   "source": [
    "s2.issuperset(s4)"
   ]
  },
  {
   "cell_type": "markdown",
   "id": "7e804e06",
   "metadata": {},
   "source": [
    "### 10.union()"
   ]
  },
  {
   "cell_type": "markdown",
   "id": "3b43806c",
   "metadata": {},
   "source": [
    "* Syntax:   setobj3=setobj1.union(setobj2)\n",
    "* This Function is used for comibining all the  unique elements of setobj1 and setobj2 and result  places in setobj3"
   ]
  },
  {
   "cell_type": "code",
   "execution_count": 60,
   "id": "098c8f9d",
   "metadata": {},
   "outputs": [
    {
     "name": "stdout",
     "output_type": "stream",
     "text": [
      "{1, 2, 3, 4, 5} {4, 5, 6, 7, 8} {33, 22, 55, 11, 44} {1, 2, 3, 4, 5, 6, 7, 8}\n"
     ]
    }
   ],
   "source": [
    "s1={1,2,3,4,5}\n",
    "s2={4,5,6,7,8}\n",
    "s3={11,22,33,44,55}\n",
    "s4=set(range(1,9))\n",
    "print(s1,s2,s3,s4)"
   ]
  },
  {
   "cell_type": "code",
   "execution_count": 61,
   "id": "9c6ed07d",
   "metadata": {},
   "outputs": [
    {
     "name": "stdout",
     "output_type": "stream",
     "text": [
      "{1, 2, 3, 4, 5, 6, 7, 8}\n"
     ]
    }
   ],
   "source": [
    "s=s1.union(s4)\n",
    "print(s)"
   ]
  },
  {
   "cell_type": "code",
   "execution_count": 62,
   "id": "451ae9d2",
   "metadata": {},
   "outputs": [
    {
     "name": "stdout",
     "output_type": "stream",
     "text": [
      "{1, 2, 3, 4, 5, 6, 7, 8}\n"
     ]
    }
   ],
   "source": [
    "s5=s1.union(s2)\n",
    "print(s5)"
   ]
  },
  {
   "cell_type": "markdown",
   "id": "e5a584fd",
   "metadata": {},
   "source": [
    "### 11.intersection()"
   ]
  },
  {
   "cell_type": "markdown",
   "id": "3a185dd2",
   "metadata": {},
   "source": [
    "* Syntax:   setobj3=setobj1.intersection(setobj2)\n",
    "* This Function is used for Obtaining Common elements from setobj1 and setobj2 and result placed in setobj3\n"
   ]
  },
  {
   "cell_type": "code",
   "execution_count": 64,
   "id": "4e3587ea",
   "metadata": {},
   "outputs": [
    {
     "name": "stdout",
     "output_type": "stream",
     "text": [
      "{1, 2, 3, 4, 5} {4, 5, 6, 7, 8} {33, 22, 55, 11, 44} {1, 2, 3, 4, 5, 6, 7, 8}\n"
     ]
    }
   ],
   "source": [
    "print(s1,s2,s3,s4)"
   ]
  },
  {
   "cell_type": "code",
   "execution_count": 65,
   "id": "dcea59a0",
   "metadata": {},
   "outputs": [
    {
     "data": {
      "text/plain": [
       "{4, 5}"
      ]
     },
     "execution_count": 65,
     "metadata": {},
     "output_type": "execute_result"
    }
   ],
   "source": [
    "s1.intersection(s2)"
   ]
  },
  {
   "cell_type": "code",
   "execution_count": 66,
   "id": "bc9fefca",
   "metadata": {},
   "outputs": [
    {
     "data": {
      "text/plain": [
       "{1, 2, 3, 4, 5}"
      ]
     },
     "execution_count": 66,
     "metadata": {},
     "output_type": "execute_result"
    }
   ],
   "source": [
    "s1.intersection(s4)"
   ]
  },
  {
   "cell_type": "markdown",
   "id": "70859cb1",
   "metadata": {},
   "source": [
    "### 12..difference()"
   ]
  },
  {
   "cell_type": "markdown",
   "id": "2bd2e792",
   "metadata": {},
   "source": [
    "* Syntax:    setobj3=setob1.difference(setobj2)\n",
    "* This Function removes the common  elements of setobj1 and setobj2 and takes remaining Elements from setobj1 and Place the result in setobj3.\n"
   ]
  },
  {
   "cell_type": "code",
   "execution_count": 68,
   "id": "ea804b2d",
   "metadata": {},
   "outputs": [
    {
     "name": "stdout",
     "output_type": "stream",
     "text": [
      "{1, 2, 3, 4, 5}\n",
      "{4, 5, 6, 7, 8}\n",
      "{33, 22, 55, 11, 44}\n",
      "{1, 2, 3, 4, 5, 6, 7, 8}\n"
     ]
    }
   ],
   "source": [
    "s1={1,2,3,4,5}\n",
    "s2={4,5,6,7,8}\n",
    "s3={11,22,33,44,55}\n",
    "s4=set(range(1,9))\n",
    "print(s1,s2,s3,s4,sep='\\n')"
   ]
  },
  {
   "cell_type": "code",
   "execution_count": 69,
   "id": "3701c789",
   "metadata": {},
   "outputs": [
    {
     "data": {
      "text/plain": [
       "{1, 2, 3}"
      ]
     },
     "execution_count": 69,
     "metadata": {},
     "output_type": "execute_result"
    }
   ],
   "source": [
    "s1.difference(s2)"
   ]
  },
  {
   "cell_type": "code",
   "execution_count": 70,
   "id": "448ea847",
   "metadata": {},
   "outputs": [
    {
     "data": {
      "text/plain": [
       "set()"
      ]
     },
     "execution_count": 70,
     "metadata": {},
     "output_type": "execute_result"
    }
   ],
   "source": [
    "s1.difference(s4)"
   ]
  },
  {
   "cell_type": "markdown",
   "id": "4151a3bb",
   "metadata": {},
   "source": [
    "### 13.symmetric_difference()"
   ]
  },
  {
   "cell_type": "markdown",
   "id": "27979fa1",
   "metadata": {},
   "source": [
    "* Syntax:    setobj3=setob1.symmetric_difference(setobj2)\n",
    "* This Function removes the common  elements of setobj1 and setobj2 and takes remaining Elements  from setobj1 and setobj2  and Place the result in setobj3.\n",
    "* Mathamatically     setobj3=setob1.symmetric_difference(setobj2)--->s1.union(s2).difference(s1.intersection(s2))"
   ]
  },
  {
   "cell_type": "code",
   "execution_count": 71,
   "id": "dcb25f4b",
   "metadata": {},
   "outputs": [
    {
     "name": "stdout",
     "output_type": "stream",
     "text": [
      "{1, 2, 3, 4, 5}\n",
      "{4, 5, 6, 7, 8}\n",
      "{33, 22, 55, 11, 44}\n",
      "{1, 2, 3, 4, 5, 6, 7, 8}\n"
     ]
    }
   ],
   "source": [
    "s1={1,2,3,4,5}\n",
    "s2={4,5,6,7,8}\n",
    "s3={11,22,33,44,55}\n",
    "s4=set(range(1,9))\n",
    "print(s1,s2,s3,s4,sep='\\n')"
   ]
  },
  {
   "cell_type": "code",
   "execution_count": 72,
   "id": "e5e16785",
   "metadata": {},
   "outputs": [
    {
     "data": {
      "text/plain": [
       "{1, 2, 3, 6, 7, 8}"
      ]
     },
     "execution_count": 72,
     "metadata": {},
     "output_type": "execute_result"
    }
   ],
   "source": [
    "s1.symmetric_difference(s2)"
   ]
  },
  {
   "cell_type": "code",
   "execution_count": 75,
   "id": "388519b4",
   "metadata": {},
   "outputs": [
    {
     "data": {
      "text/plain": [
       "{1, 2, 3}"
      ]
     },
     "execution_count": 75,
     "metadata": {},
     "output_type": "execute_result"
    }
   ],
   "source": [
    "s2.symmetric_difference(s4)"
   ]
  },
  {
   "cell_type": "markdown",
   "id": "59b86b11",
   "metadata": {},
   "source": [
    "### 14.update()"
   ]
  },
  {
   "cell_type": "markdown",
   "id": "f4e5e701",
   "metadata": {},
   "source": [
    "* Syntax: setobj1.update(setobj2)\n",
    "* This Function is used for comibining or mergining the  values of setobj1 and setbj2 in setobj1\n"
   ]
  },
  {
   "cell_type": "code",
   "execution_count": 76,
   "id": "2bae5317",
   "metadata": {},
   "outputs": [
    {
     "name": "stdout",
     "output_type": "stream",
     "text": [
      "{'Mango', 'Apple'} <class 'set'>\n",
      "{'Kiwi', 'Grapes', 'Sberry'} <class 'set'>\n"
     ]
    }
   ],
   "source": [
    "s1={\"Apple\",\"Mango\"}\n",
    "s2={\"Kiwi\",\"Sberry\",\"Grapes\"}\n",
    "print(s1,type(s1))\n",
    "print(s2,type(s2))"
   ]
  },
  {
   "cell_type": "code",
   "execution_count": 77,
   "id": "e3028dd2",
   "metadata": {},
   "outputs": [
    {
     "name": "stdout",
     "output_type": "stream",
     "text": [
      "None <class 'NoneType'>\n"
     ]
    }
   ],
   "source": [
    "s3=s1.update(s2)\n",
    "print(s3,type(s3))"
   ]
  },
  {
   "cell_type": "code",
   "execution_count": 78,
   "id": "6bbe057d",
   "metadata": {},
   "outputs": [
    {
     "name": "stdout",
     "output_type": "stream",
     "text": [
      "{'Kiwi', 'Grapes', 'Mango', 'Apple', 'Sberry'} <class 'set'>\n"
     ]
    }
   ],
   "source": [
    "print(s1,type(s1))"
   ]
  },
  {
   "cell_type": "code",
   "execution_count": 80,
   "id": "89c25a8c",
   "metadata": {},
   "outputs": [
    {
     "name": "stdout",
     "output_type": "stream",
     "text": [
      "{'Kiwi', 'Grapes', 'Sberry'} <class 'set'>\n"
     ]
    }
   ],
   "source": [
    "print(s2,type(s2))"
   ]
  },
  {
   "cell_type": "markdown",
   "id": "1ed9c77f",
   "metadata": {},
   "source": [
    "# INNER OR NESTED SET"
   ]
  },
  {
   "cell_type": "markdown",
   "id": "71e35e06",
   "metadata": {},
   "source": [
    "a)  Defining set inside of another set  NOT POSSIBLE <br>\n",
    "b)  Defining set inside of another Tuple  POSSIBLE <br>\n",
    "c)  Defining set inside of another List POSSIBLE <br>\n",
    "d)  Defining tuple inside of Another Set POSSIBLE <br>\n",
    "e) Defining  list inside of another set NOT POSSIBLE\n"
   ]
  },
  {
   "cell_type": "code",
   "execution_count": 81,
   "id": "602fefe7",
   "metadata": {},
   "outputs": [
    {
     "ename": "TypeError",
     "evalue": "unhashable type: 'set'",
     "output_type": "error",
     "traceback": [
      "\u001b[1;31m---------------------------------------------------------------------------\u001b[0m",
      "\u001b[1;31mTypeError\u001b[0m                                 Traceback (most recent call last)",
      "\u001b[1;32m~\\AppData\\Local\\Temp\\ipykernel_20468\\286013125.py\u001b[0m in \u001b[0;36m<module>\u001b[1;34m\u001b[0m\n\u001b[1;32m----> 1\u001b[1;33m \u001b[0ms1\u001b[0m\u001b[1;33m=\u001b[0m\u001b[1;33m{\u001b[0m\u001b[1;36m10\u001b[0m\u001b[1;33m,\u001b[0m\u001b[1;34m\"Rossum\"\u001b[0m\u001b[1;33m,\u001b[0m\u001b[1;33m{\u001b[0m\u001b[1;36m10\u001b[0m\u001b[1;33m,\u001b[0m\u001b[1;36m15\u001b[0m\u001b[1;33m,\u001b[0m\u001b[1;36m16\u001b[0m\u001b[1;33m}\u001b[0m\u001b[1;33m,\u001b[0m\u001b[1;34m\"OUCET\"\u001b[0m\u001b[1;33m}\u001b[0m\u001b[1;33m\u001b[0m\u001b[1;33m\u001b[0m\u001b[0m\n\u001b[0m\u001b[0;32m      2\u001b[0m \u001b[0mprint\u001b[0m\u001b[1;33m(\u001b[0m\u001b[0ms1\u001b[0m\u001b[1;33m,\u001b[0m\u001b[0mtype\u001b[0m\u001b[1;33m(\u001b[0m\u001b[0ms1\u001b[0m\u001b[1;33m)\u001b[0m\u001b[1;33m)\u001b[0m\u001b[1;33m\u001b[0m\u001b[1;33m\u001b[0m\u001b[0m\n",
      "\u001b[1;31mTypeError\u001b[0m: unhashable type: 'set'"
     ]
    }
   ],
   "source": [
    "s1={10,\"Rossum\",{10,15,16},\"OUCET\"}\n",
    "print(s1,type(s1))"
   ]
  },
  {
   "cell_type": "code",
   "execution_count": 82,
   "id": "72bf8e8c",
   "metadata": {},
   "outputs": [
    {
     "ename": "TypeError",
     "evalue": "unhashable type: 'list'",
     "output_type": "error",
     "traceback": [
      "\u001b[1;31m---------------------------------------------------------------------------\u001b[0m",
      "\u001b[1;31mTypeError\u001b[0m                                 Traceback (most recent call last)",
      "\u001b[1;32m~\\AppData\\Local\\Temp\\ipykernel_20468\\2121072849.py\u001b[0m in \u001b[0;36m<module>\u001b[1;34m\u001b[0m\n\u001b[1;32m----> 1\u001b[1;33m \u001b[0ms1\u001b[0m\u001b[1;33m=\u001b[0m\u001b[1;33m{\u001b[0m\u001b[1;36m10\u001b[0m\u001b[1;33m,\u001b[0m\u001b[1;34m\"Rossum\"\u001b[0m\u001b[1;33m,\u001b[0m\u001b[1;33m[\u001b[0m\u001b[1;36m10\u001b[0m\u001b[1;33m,\u001b[0m\u001b[1;36m15\u001b[0m\u001b[1;33m,\u001b[0m\u001b[1;36m16\u001b[0m\u001b[1;33m]\u001b[0m\u001b[1;33m,\u001b[0m\u001b[1;34m\"OUCET\"\u001b[0m\u001b[1;33m}\u001b[0m\u001b[1;33m\u001b[0m\u001b[1;33m\u001b[0m\u001b[0m\n\u001b[0m\u001b[0;32m      2\u001b[0m \u001b[0mprint\u001b[0m\u001b[1;33m(\u001b[0m\u001b[0ms1\u001b[0m\u001b[1;33m,\u001b[0m\u001b[0mtype\u001b[0m\u001b[1;33m(\u001b[0m\u001b[0ms1\u001b[0m\u001b[1;33m)\u001b[0m\u001b[1;33m)\u001b[0m\u001b[1;33m\u001b[0m\u001b[1;33m\u001b[0m\u001b[0m\n",
      "\u001b[1;31mTypeError\u001b[0m: unhashable type: 'list'"
     ]
    }
   ],
   "source": [
    "s1={10,\"Rossum\",[10,15,16],\"OUCET\"}\n",
    "print(s1,type(s1))"
   ]
  },
  {
   "cell_type": "code",
   "execution_count": 83,
   "id": "f4379d01",
   "metadata": {},
   "outputs": [
    {
     "name": "stdout",
     "output_type": "stream",
     "text": [
      "{'OUCET', 10, (10, 15, 16), 'Rossum'} <class 'set'>\n"
     ]
    }
   ],
   "source": [
    "s1={10,\"Rossum\",(10,15,16),\"OUCET\"}\n",
    "print(s1,type(s1))"
   ]
  },
  {
   "cell_type": "code",
   "execution_count": 84,
   "id": "a5ffe75d",
   "metadata": {},
   "outputs": [
    {
     "name": "stdout",
     "output_type": "stream",
     "text": [
      "(10, 'Rossum', {16, 10, 15}, 'OUCET') <class 'tuple'>\n"
     ]
    }
   ],
   "source": [
    "s1=(10,\"Rossum\",{10,15,16},\"OUCET\")\n",
    "print(s1,type(s1))"
   ]
  },
  {
   "cell_type": "code",
   "execution_count": 85,
   "id": "1febb8fb",
   "metadata": {},
   "outputs": [
    {
     "data": {
      "text/plain": [
       "{10, 15, 16}"
      ]
     },
     "execution_count": 85,
     "metadata": {},
     "output_type": "execute_result"
    }
   ],
   "source": [
    "s1[2]"
   ]
  },
  {
   "cell_type": "code",
   "execution_count": 86,
   "id": "d249a921",
   "metadata": {},
   "outputs": [
    {
     "data": {
      "text/plain": [
       "'OUCET'"
      ]
     },
     "execution_count": 86,
     "metadata": {},
     "output_type": "execute_result"
    }
   ],
   "source": [
    "s1[-1]"
   ]
  },
  {
   "cell_type": "code",
   "execution_count": 87,
   "id": "ae7fcb64",
   "metadata": {},
   "outputs": [
    {
     "name": "stdout",
     "output_type": "stream",
     "text": [
      "[10, 'Rossum', {16, 10, 15}, 'OUCET'] <class 'list'>\n"
     ]
    }
   ],
   "source": [
    "s1=[10,\"Rossum\",{10,15,16},\"OUCET\"]\n",
    "print(s1,type(s1))"
   ]
  },
  {
   "cell_type": "markdown",
   "id": "e273ed83",
   "metadata": {},
   "source": [
    "# dict()"
   ]
  },
  {
   "cell_type": "markdown",
   "id": "83f75cf6",
   "metadata": {},
   "source": [
    "* 'dict' is one of the pre-defined class and treated as Dict Data Type.\n",
    "* The purpose of dict data type is that \"To store (Key,value) in single variable\"\n",
    "* In (Key,Value), the values of Key is Unique and Values of Value may or may not be unique.\n",
    "* The (Key,value) must be organized or stored in the object of dict within Curly Braces {} and  they separated by comma.\n",
    "* An object of dict does not support Indexing and Slicing bcoz Values of Key itself considered as Indices.\n",
    "* In the object of dict, Values of Key are treated as Immutable and Values of Value  are treated as mutable.\n",
    "* Originally an object of dict is mutable bcoz we can add (Key,Value) externally.\n",
    "* We have two types of dict objects. They are\n",
    "          a) Empty dict\n",
    "          b) Non-empty dict\n"
   ]
  },
  {
   "cell_type": "markdown",
   "id": "3d00e894",
   "metadata": {},
   "source": [
    "**a) Empty dict**\n",
    "* Empty dict is one, which does not contain any (Key,Value) and whose length is 0\n",
    "* Syntax:-          dictobj1= { }\n",
    "\t\t\t\tor\n",
    "\t\t\t    dictobj=dict()\n",
    "\t\t\t    \n",
    "* Syntax for adding (Key,Value) to empty dict:\n",
    "    \n",
    "\t\tdictobj[Key1]=Val1\n",
    "\t\tdictobj[Key2]=Val2\n",
    "\t\t---------------------------\n",
    "\t\tdictobj[Key-n]=Val-n\n",
    "* Here Key1,Key2...Key-n are called Values of Key and They must be Unique\n",
    "* Here Val1, Val2...Val-n are called Values of Value and They may or may not be unique."
   ]
  },
  {
   "cell_type": "markdown",
   "id": "5a173e01",
   "metadata": {},
   "source": [
    "**b) Non-Empty dict**\n",
    "\n",
    "* Non-Empty dict is one, which contains  (Key,Value) and whose length is >0\n",
    "* Syntax:-          dictobj1= { Key1:Val1,Key2:Val2......Key-n:Valn}\n",
    "\t\t\t\n",
    "* Here Key1,Key2...Key-n are called Values of Key and They must be Unique\n",
    "* Here Val1, Val2...Val-n are called Values of Value and They may or may not be unique.\t\n"
   ]
  },
  {
   "cell_type": "code",
   "execution_count": 89,
   "id": "66a6405d",
   "metadata": {},
   "outputs": [
    {
     "name": "stdout",
     "output_type": "stream",
     "text": [
      "{10: 'Python', 20: 'Data Sci', 30: 'Django'} <class 'dict'>\n"
     ]
    }
   ],
   "source": [
    "d1={10:\"Python\",20:\"Data Sci\",30:\"Django\"}\n",
    "print(d1,type(d1))"
   ]
  },
  {
   "cell_type": "code",
   "execution_count": 90,
   "id": "fec29fd3",
   "metadata": {},
   "outputs": [
    {
     "name": "stdout",
     "output_type": "stream",
     "text": [
      "{10: 3.4, 20: 4.5, 30: 5.6, 40: 3.4} <class 'dict'>\n"
     ]
    }
   ],
   "source": [
    "d2={10:3.4,20:4.5,30:5.6,40:3.4}\n",
    "print(d2,type(d2))"
   ]
  },
  {
   "cell_type": "code",
   "execution_count": 91,
   "id": "aa0c2ce3",
   "metadata": {},
   "outputs": [
    {
     "data": {
      "text/plain": [
       "3"
      ]
     },
     "execution_count": 91,
     "metadata": {},
     "output_type": "execute_result"
    }
   ],
   "source": [
    "len(d1)"
   ]
  },
  {
   "cell_type": "code",
   "execution_count": 92,
   "id": "96c4589e",
   "metadata": {},
   "outputs": [
    {
     "data": {
      "text/plain": [
       "4"
      ]
     },
     "execution_count": 92,
     "metadata": {},
     "output_type": "execute_result"
    }
   ],
   "source": [
    "len(d2)"
   ]
  },
  {
   "cell_type": "code",
   "execution_count": 93,
   "id": "bc0fa787",
   "metadata": {},
   "outputs": [
    {
     "name": "stdout",
     "output_type": "stream",
     "text": [
      "{} <class 'dict'>\n"
     ]
    }
   ],
   "source": [
    "d3={}\n",
    "print(d3,type(d3))"
   ]
  },
  {
   "cell_type": "code",
   "execution_count": 94,
   "id": "a9a56c56",
   "metadata": {},
   "outputs": [
    {
     "name": "stdout",
     "output_type": "stream",
     "text": [
      "{} <class 'dict'>\n"
     ]
    }
   ],
   "source": [
    "d4=dict()\n",
    "print(d4,type(d4))"
   ]
  },
  {
   "cell_type": "code",
   "execution_count": 95,
   "id": "fd9a1fc3",
   "metadata": {},
   "outputs": [
    {
     "data": {
      "text/plain": [
       "{10: 3.4, 20: 4.5, 30: 5.6, 40: 3.4}"
      ]
     },
     "execution_count": 95,
     "metadata": {},
     "output_type": "execute_result"
    }
   ],
   "source": [
    "d2"
   ]
  },
  {
   "cell_type": "code",
   "execution_count": 96,
   "id": "4fd24022",
   "metadata": {},
   "outputs": [
    {
     "ename": "KeyError",
     "evalue": "0",
     "output_type": "error",
     "traceback": [
      "\u001b[1;31m---------------------------------------------------------------------------\u001b[0m",
      "\u001b[1;31mKeyError\u001b[0m                                  Traceback (most recent call last)",
      "\u001b[1;32m~\\AppData\\Local\\Temp\\ipykernel_20468\\2110245992.py\u001b[0m in \u001b[0;36m<module>\u001b[1;34m\u001b[0m\n\u001b[1;32m----> 1\u001b[1;33m \u001b[0md2\u001b[0m\u001b[1;33m[\u001b[0m\u001b[1;36m0\u001b[0m\u001b[1;33m]\u001b[0m\u001b[1;33m\u001b[0m\u001b[1;33m\u001b[0m\u001b[0m\n\u001b[0m",
      "\u001b[1;31mKeyError\u001b[0m: 0"
     ]
    }
   ],
   "source": [
    "d2[0]"
   ]
  },
  {
   "cell_type": "code",
   "execution_count": 97,
   "id": "593bc34f",
   "metadata": {},
   "outputs": [
    {
     "data": {
      "text/plain": [
       "4.5"
      ]
     },
     "execution_count": 97,
     "metadata": {},
     "output_type": "execute_result"
    }
   ],
   "source": [
    "d2[20]"
   ]
  },
  {
   "cell_type": "code",
   "execution_count": 98,
   "id": "b17a6fdf",
   "metadata": {},
   "outputs": [
    {
     "data": {
      "text/plain": [
       "3.4"
      ]
     },
     "execution_count": 98,
     "metadata": {},
     "output_type": "execute_result"
    }
   ],
   "source": [
    "d2[10]"
   ]
  },
  {
   "cell_type": "code",
   "execution_count": 99,
   "id": "6b681f3b",
   "metadata": {},
   "outputs": [
    {
     "data": {
      "text/plain": [
       "{10: 3.4, 20: 4.5, 30: 5.6, 40: 3.4, 50: 5.2}"
      ]
     },
     "execution_count": 99,
     "metadata": {},
     "output_type": "execute_result"
    }
   ],
   "source": [
    "d2[50]=5.2\n",
    "d2"
   ]
  },
  {
   "cell_type": "code",
   "execution_count": 106,
   "id": "2a705a6f",
   "metadata": {},
   "outputs": [
    {
     "name": "stdout",
     "output_type": "stream",
     "text": [
      "{} <class 'dict'> 2252266809344\n"
     ]
    }
   ],
   "source": [
    "d={}\n",
    "print(d,type(d),id(d))"
   ]
  },
  {
   "cell_type": "code",
   "execution_count": 102,
   "id": "643b9050",
   "metadata": {},
   "outputs": [
    {
     "data": {
      "text/plain": [
       "{'python': 1}"
      ]
     },
     "execution_count": 102,
     "metadata": {},
     "output_type": "execute_result"
    }
   ],
   "source": [
    "d['python']=1\n",
    "d"
   ]
  },
  {
   "cell_type": "code",
   "execution_count": 104,
   "id": "dfde39ff",
   "metadata": {},
   "outputs": [
    {
     "data": {
      "text/plain": [
       "{'python': 1, 'ds': 2}"
      ]
     },
     "execution_count": 104,
     "metadata": {},
     "output_type": "execute_result"
    }
   ],
   "source": [
    "d['ds']=2\n",
    "d"
   ]
  },
  {
   "cell_type": "code",
   "execution_count": 107,
   "id": "67306c1f",
   "metadata": {},
   "outputs": [
    {
     "name": "stdout",
     "output_type": "stream",
     "text": [
      "{'jv': 3} <class 'dict'> 2252266809344\n"
     ]
    }
   ],
   "source": [
    "d['jv']=3\n",
    "print(d,type(d),id(d))"
   ]
  },
  {
   "cell_type": "markdown",
   "id": "123babf5",
   "metadata": {},
   "source": [
    "##### To Perform Various Operations on dict object, we have pre-defined Functions in dict object. They are\n"
   ]
  },
  {
   "cell_type": "markdown",
   "id": "47443e52",
   "metadata": {},
   "source": [
    "### 1.clear()"
   ]
  },
  {
   "cell_type": "markdown",
   "id": "120cda67",
   "metadata": {},
   "source": [
    "* Syntax:  dictobj.clear()\n",
    "* This Function is used for removing all the elements of dict object\n",
    "* When we call this function upon empty dict object then we get None as Result"
   ]
  },
  {
   "cell_type": "code",
   "execution_count": 109,
   "id": "a28b5738",
   "metadata": {},
   "outputs": [
    {
     "data": {
      "text/plain": [
       "{10: 3.4, 20: 4.5, 30: 5.6, 40: 3.4, 50: 5.2}"
      ]
     },
     "execution_count": 109,
     "metadata": {},
     "output_type": "execute_result"
    }
   ],
   "source": [
    "d2"
   ]
  },
  {
   "cell_type": "code",
   "execution_count": 110,
   "id": "b8d9f35c",
   "metadata": {},
   "outputs": [
    {
     "name": "stdout",
     "output_type": "stream",
     "text": [
      "{10: 3.4, 20: 4.5, 30: 5.6, 40: 3.4, 50: 5.2} <class 'dict'>\n"
     ]
    }
   ],
   "source": [
    "print(d2,type(d2))"
   ]
  },
  {
   "cell_type": "code",
   "execution_count": 111,
   "id": "cba4e263",
   "metadata": {},
   "outputs": [],
   "source": [
    "d2.clear()\n"
   ]
  },
  {
   "cell_type": "code",
   "execution_count": 112,
   "id": "7f95c86a",
   "metadata": {},
   "outputs": [
    {
     "data": {
      "text/plain": [
       "{}"
      ]
     },
     "execution_count": 112,
     "metadata": {},
     "output_type": "execute_result"
    }
   ],
   "source": [
    "d2"
   ]
  },
  {
   "cell_type": "code",
   "execution_count": 113,
   "id": "75e447e8",
   "metadata": {},
   "outputs": [
    {
     "name": "stdout",
     "output_type": "stream",
     "text": [
      "None\n"
     ]
    }
   ],
   "source": [
    "print(d2.clear())"
   ]
  },
  {
   "cell_type": "markdown",
   "id": "e38c3caa",
   "metadata": {},
   "source": [
    "### 2.pop()"
   ]
  },
  {
   "cell_type": "markdown",
   "id": "adc1d141",
   "metadata": {},
   "source": [
    "* Syntax:  dictobj.pop(Key)\n",
    "* This Function is used removing (Key,Value) from dict object.\n",
    "* If the Value of Key does not exist then we get KeyError\n"
   ]
  },
  {
   "cell_type": "code",
   "execution_count": 115,
   "id": "09064be2",
   "metadata": {},
   "outputs": [
    {
     "name": "stdout",
     "output_type": "stream",
     "text": [
      "{10: 3.4, 20: 4.5, 30: 5.6, 40: 3.4} <class 'dict'>\n"
     ]
    }
   ],
   "source": [
    "d2={10:3.4,20:4.5,30:5.6,40:3.4}\n",
    "print(d2,type(d2))"
   ]
  },
  {
   "cell_type": "code",
   "execution_count": 116,
   "id": "276eb3aa",
   "metadata": {},
   "outputs": [
    {
     "data": {
      "text/plain": [
       "3.4"
      ]
     },
     "execution_count": 116,
     "metadata": {},
     "output_type": "execute_result"
    }
   ],
   "source": [
    "d2.pop(10)"
   ]
  },
  {
   "cell_type": "code",
   "execution_count": 117,
   "id": "7bc6a3dd",
   "metadata": {},
   "outputs": [
    {
     "data": {
      "text/plain": [
       "3.4"
      ]
     },
     "execution_count": 117,
     "metadata": {},
     "output_type": "execute_result"
    }
   ],
   "source": [
    "d2.pop(40)"
   ]
  },
  {
   "cell_type": "code",
   "execution_count": 118,
   "id": "4232e861",
   "metadata": {},
   "outputs": [
    {
     "ename": "KeyError",
     "evalue": "6",
     "output_type": "error",
     "traceback": [
      "\u001b[1;31m---------------------------------------------------------------------------\u001b[0m",
      "\u001b[1;31mKeyError\u001b[0m                                  Traceback (most recent call last)",
      "\u001b[1;32m~\\AppData\\Local\\Temp\\ipykernel_20468\\2367576703.py\u001b[0m in \u001b[0;36m<module>\u001b[1;34m\u001b[0m\n\u001b[1;32m----> 1\u001b[1;33m \u001b[0md2\u001b[0m\u001b[1;33m.\u001b[0m\u001b[0mpop\u001b[0m\u001b[1;33m(\u001b[0m\u001b[1;36m6\u001b[0m\u001b[1;33m)\u001b[0m\u001b[1;33m\u001b[0m\u001b[1;33m\u001b[0m\u001b[0m\n\u001b[0m",
      "\u001b[1;31mKeyError\u001b[0m: 6"
     ]
    }
   ],
   "source": [
    "d2.pop(6)"
   ]
  },
  {
   "cell_type": "markdown",
   "id": "17d4dd17",
   "metadata": {},
   "source": [
    "### 3.popitem()"
   ]
  },
  {
   "cell_type": "markdown",
   "id": "d2a8ca0c",
   "metadata": {},
   "source": [
    "* Syntax:    dictobj.popitem()\n",
    "* This Function is used removing last (Key,Value) from non-empty dict object.\n",
    "* When we call this function upon empty  object then we get KeyError as Result\n"
   ]
  },
  {
   "cell_type": "code",
   "execution_count": 120,
   "id": "8ecb31bf",
   "metadata": {},
   "outputs": [
    {
     "name": "stdout",
     "output_type": "stream",
     "text": [
      "{10: 3.4, 20: 4.5, 30: 5.6, 40: 3.4} <class 'dict'>\n"
     ]
    }
   ],
   "source": [
    "d2={10:3.4,20:4.5,30:5.6,40:3.4}\n",
    "print(d2,type(d2))"
   ]
  },
  {
   "cell_type": "code",
   "execution_count": 121,
   "id": "0379ba4f",
   "metadata": {},
   "outputs": [
    {
     "data": {
      "text/plain": [
       "(40, 3.4)"
      ]
     },
     "execution_count": 121,
     "metadata": {},
     "output_type": "execute_result"
    }
   ],
   "source": [
    "d2.popitem()"
   ]
  },
  {
   "cell_type": "code",
   "execution_count": 122,
   "id": "4455d9dd",
   "metadata": {},
   "outputs": [
    {
     "data": {
      "text/plain": [
       "(30, 5.6)"
      ]
     },
     "execution_count": 122,
     "metadata": {},
     "output_type": "execute_result"
    }
   ],
   "source": [
    "d2.popitem()"
   ]
  },
  {
   "cell_type": "code",
   "execution_count": 123,
   "id": "579a17e4",
   "metadata": {},
   "outputs": [
    {
     "ename": "KeyError",
     "evalue": "'popitem(): dictionary is empty'",
     "output_type": "error",
     "traceback": [
      "\u001b[1;31m---------------------------------------------------------------------------\u001b[0m",
      "\u001b[1;31mKeyError\u001b[0m                                  Traceback (most recent call last)",
      "\u001b[1;32m~\\AppData\\Local\\Temp\\ipykernel_20468\\1499024663.py\u001b[0m in \u001b[0;36m<module>\u001b[1;34m\u001b[0m\n\u001b[1;32m----> 1\u001b[1;33m \u001b[1;33m{\u001b[0m\u001b[1;33m}\u001b[0m\u001b[1;33m.\u001b[0m\u001b[0mpopitem\u001b[0m\u001b[1;33m(\u001b[0m\u001b[1;33m)\u001b[0m\u001b[1;33m\u001b[0m\u001b[1;33m\u001b[0m\u001b[0m\n\u001b[0m",
      "\u001b[1;31mKeyError\u001b[0m: 'popitem(): dictionary is empty'"
     ]
    }
   ],
   "source": [
    "{}.popitem()"
   ]
  },
  {
   "cell_type": "markdown",
   "id": "b579e430",
   "metadata": {},
   "source": [
    "### 4.copy()"
   ]
  },
  {
   "cell_type": "markdown",
   "id": "c9ef9cac",
   "metadata": {},
   "source": [
    "* Syntax:     dictobj2=dictobj1.copy()\n",
    "* This Function is used for copying the content of one dict object into another dict object."
   ]
  },
  {
   "cell_type": "code",
   "execution_count": 126,
   "id": "7384a60b",
   "metadata": {},
   "outputs": [
    {
     "name": "stdout",
     "output_type": "stream",
     "text": [
      "{10: 3.4, 20: 4.5, 30: 5.6, 40: 3.4} <class 'dict'> 2252268758720\n"
     ]
    }
   ],
   "source": [
    "d1={10:3.4,20:4.5,30:5.6,40:3.4}\n",
    "print(d1,type(d1),id(d1))"
   ]
  },
  {
   "cell_type": "code",
   "execution_count": 127,
   "id": "9c881003",
   "metadata": {},
   "outputs": [
    {
     "name": "stdout",
     "output_type": "stream",
     "text": [
      "{10: 3.4, 20: 4.5, 30: 5.6, 40: 3.4} <class 'dict'> 2252267883008\n"
     ]
    }
   ],
   "source": [
    "d2=d1.copy()\n",
    "print(d2,type(d2),id(d2))"
   ]
  },
  {
   "cell_type": "code",
   "execution_count": 128,
   "id": "e499cb2e",
   "metadata": {},
   "outputs": [],
   "source": [
    "d1[50]=53.8"
   ]
  },
  {
   "cell_type": "code",
   "execution_count": 129,
   "id": "cfdbfaf0",
   "metadata": {},
   "outputs": [],
   "source": [
    "d2[60]=2.5"
   ]
  },
  {
   "cell_type": "code",
   "execution_count": 130,
   "id": "9cdb9d98",
   "metadata": {},
   "outputs": [
    {
     "name": "stdout",
     "output_type": "stream",
     "text": [
      "{10: 3.4, 20: 4.5, 30: 5.6, 40: 3.4, 50: 53.8} <class 'dict'> 2252268758720\n"
     ]
    }
   ],
   "source": [
    "print(d1,type(d1),id(d1))"
   ]
  },
  {
   "cell_type": "code",
   "execution_count": 131,
   "id": "03849951",
   "metadata": {},
   "outputs": [
    {
     "name": "stdout",
     "output_type": "stream",
     "text": [
      "{10: 3.4, 20: 4.5, 30: 5.6, 40: 3.4, 60: 2.5} <class 'dict'> 2252267883008\n"
     ]
    }
   ],
   "source": [
    "print(d2,type(d2),id(d2))"
   ]
  },
  {
   "cell_type": "markdown",
   "id": "5fbce697",
   "metadata": {},
   "source": [
    "### 5.get()"
   ]
  },
  {
   "cell_type": "markdown",
   "id": "c5c5ef7b",
   "metadata": {},
   "source": [
    "* Syntax:    varname=dictobj.get(Key)\n",
    "* This Function is used for obtaining the Value of Value by passing the Value of Key.\n",
    "* If the value of Key does not exist then we get None as a Result.\n",
    "\t\t\t\t(OR)\n",
    "* Syntax:          dictobj[Key]\n"
   ]
  },
  {
   "cell_type": "code",
   "execution_count": 132,
   "id": "65a07efb",
   "metadata": {},
   "outputs": [
    {
     "name": "stdout",
     "output_type": "stream",
     "text": [
      "{10: 2.3, 20: 3.4, 30: 4.5, 40: 2.3} <class 'dict'> 2252267841024\n"
     ]
    }
   ],
   "source": [
    "d1={10:2.3,20:3.4,30:4.5,40:2.3}\n",
    "print(d1,type(d1),id(d1))"
   ]
  },
  {
   "cell_type": "code",
   "execution_count": 133,
   "id": "525a0e17",
   "metadata": {},
   "outputs": [
    {
     "name": "stdout",
     "output_type": "stream",
     "text": [
      "2.3 <class 'float'>\n"
     ]
    }
   ],
   "source": [
    "val=d1.get(40)\n",
    "print(val,type(val))"
   ]
  },
  {
   "cell_type": "code",
   "execution_count": 134,
   "id": "5b1e0dfa",
   "metadata": {},
   "outputs": [
    {
     "name": "stdout",
     "output_type": "stream",
     "text": [
      "4.5 <class 'float'>\n"
     ]
    }
   ],
   "source": [
    "val=d1.get(30)\n",
    "print(val,type(val))"
   ]
  },
  {
   "cell_type": "code",
   "execution_count": 135,
   "id": "cb52cab1",
   "metadata": {},
   "outputs": [
    {
     "name": "stdout",
     "output_type": "stream",
     "text": [
      "None <class 'NoneType'>\n"
     ]
    }
   ],
   "source": [
    "val=d1.get(100)\n",
    "print(val,type(val))"
   ]
  },
  {
   "cell_type": "code",
   "execution_count": 136,
   "id": "cbffd169",
   "metadata": {},
   "outputs": [
    {
     "name": "stdout",
     "output_type": "stream",
     "text": [
      "{10: 2.3, 20: 3.4, 30: 4.5, 40: 2.3} <class 'dict'> 2252267840000\n"
     ]
    }
   ],
   "source": [
    "d1={10:2.3,20:3.4,30:4.5,40:2.3}\n",
    "print(d1,type(d1),id(d1))"
   ]
  },
  {
   "cell_type": "code",
   "execution_count": 137,
   "id": "d5aed12c",
   "metadata": {},
   "outputs": [
    {
     "data": {
      "text/plain": [
       "2.3"
      ]
     },
     "execution_count": 137,
     "metadata": {},
     "output_type": "execute_result"
    }
   ],
   "source": [
    "d1[10]"
   ]
  },
  {
   "cell_type": "code",
   "execution_count": 138,
   "id": "69ad3e69",
   "metadata": {},
   "outputs": [
    {
     "data": {
      "text/plain": [
       "3.4"
      ]
     },
     "execution_count": 138,
     "metadata": {},
     "output_type": "execute_result"
    }
   ],
   "source": [
    "d1[20]"
   ]
  },
  {
   "cell_type": "code",
   "execution_count": 139,
   "id": "a7bcfb51",
   "metadata": {},
   "outputs": [
    {
     "ename": "KeyError",
     "evalue": "44",
     "output_type": "error",
     "traceback": [
      "\u001b[1;31m---------------------------------------------------------------------------\u001b[0m",
      "\u001b[1;31mKeyError\u001b[0m                                  Traceback (most recent call last)",
      "\u001b[1;32m~\\AppData\\Local\\Temp\\ipykernel_20468\\4051780717.py\u001b[0m in \u001b[0;36m<module>\u001b[1;34m\u001b[0m\n\u001b[1;32m----> 1\u001b[1;33m \u001b[0md2\u001b[0m\u001b[1;33m[\u001b[0m\u001b[1;36m44\u001b[0m\u001b[1;33m]\u001b[0m\u001b[1;33m\u001b[0m\u001b[1;33m\u001b[0m\u001b[0m\n\u001b[0m",
      "\u001b[1;31mKeyError\u001b[0m: 44"
     ]
    }
   ],
   "source": [
    "d2[44]"
   ]
  },
  {
   "cell_type": "markdown",
   "id": "fb1d4b95",
   "metadata": {},
   "source": [
    "### 6.keys()"
   ]
  },
  {
   "cell_type": "markdown",
   "id": "30aefa70",
   "metadata": {},
   "source": [
    "* Syntax:\tdictobj.keys()\n",
    "\t\t\t\t(OR)\n",
    "* Syntax:   varname=dictobj.keys()\n",
    "* This function is used for obtaining Values of Key and stored in varname and It is an object of <class,dict-keys> \t\t\n"
   ]
  },
  {
   "cell_type": "code",
   "execution_count": 140,
   "id": "f1fc12c1",
   "metadata": {},
   "outputs": [
    {
     "name": "stdout",
     "output_type": "stream",
     "text": [
      "{10: 2.3, 20: 3.4, 30: 4.5, 40: 2.3} <class 'dict'> 2252268758528\n"
     ]
    }
   ],
   "source": [
    "d1={10:2.3,20:3.4,30:4.5,40:2.3}\n",
    "print(d1,type(d1),id(d1))"
   ]
  },
  {
   "cell_type": "code",
   "execution_count": 141,
   "id": "f97f5876",
   "metadata": {},
   "outputs": [
    {
     "name": "stdout",
     "output_type": "stream",
     "text": [
      "dict_keys([10, 20, 30, 40]) <class 'dict_keys'>\n"
     ]
    }
   ],
   "source": [
    "k=d1.keys()\n",
    "print(k,type(k))"
   ]
  },
  {
   "cell_type": "code",
   "execution_count": 143,
   "id": "565d6c82",
   "metadata": {},
   "outputs": [
    {
     "name": "stdout",
     "output_type": "stream",
     "text": [
      "10\n",
      "20\n",
      "30\n",
      "40\n"
     ]
    }
   ],
   "source": [
    "for ks in k:\n",
    "    print(ks)"
   ]
  },
  {
   "cell_type": "code",
   "execution_count": 145,
   "id": "1da6b233",
   "metadata": {},
   "outputs": [
    {
     "name": "stdout",
     "output_type": "stream",
     "text": [
      "10\n",
      "20\n",
      "30\n",
      "40\n"
     ]
    }
   ],
   "source": [
    "for ks in d1.keys():\n",
    "    print(ks)"
   ]
  },
  {
   "cell_type": "markdown",
   "id": "0c8c79c0",
   "metadata": {},
   "source": [
    "### 7.values()"
   ]
  },
  {
   "cell_type": "markdown",
   "id": "9d6a52af",
   "metadata": {},
   "source": [
    "* Syntax:    varname=dictobj.values()\n",
    "* This function is used for obtaining Values of Value and stored in varname and It is an object of <class,dict-values> "
   ]
  },
  {
   "cell_type": "code",
   "execution_count": 147,
   "id": "b04d267f",
   "metadata": {},
   "outputs": [
    {
     "name": "stdout",
     "output_type": "stream",
     "text": [
      "{10: 2.3, 20: 3.4, 30: 4.5, 40: 2.3} <class 'dict'> 2252268697984\n"
     ]
    }
   ],
   "source": [
    "d1={10:2.3,20:3.4,30:4.5,40:2.3}\n",
    "print(d1,type(d1),id(d1))"
   ]
  },
  {
   "cell_type": "code",
   "execution_count": 148,
   "id": "01bc70ad",
   "metadata": {},
   "outputs": [
    {
     "name": "stdout",
     "output_type": "stream",
     "text": [
      "dict_values([2.3, 3.4, 4.5, 2.3]) <class 'dict_values'> 2252266904832\n"
     ]
    }
   ],
   "source": [
    "vs=d1.values()\n",
    "print(vs,type(vs),id(vs))"
   ]
  },
  {
   "cell_type": "code",
   "execution_count": 149,
   "id": "da834138",
   "metadata": {},
   "outputs": [
    {
     "name": "stdout",
     "output_type": "stream",
     "text": [
      "2.3\n",
      "3.4\n",
      "4.5\n",
      "2.3\n"
     ]
    }
   ],
   "source": [
    "for v in vs:\n",
    "    print(v)"
   ]
  },
  {
   "cell_type": "code",
   "execution_count": 151,
   "id": "fd049bef",
   "metadata": {},
   "outputs": [
    {
     "name": "stdout",
     "output_type": "stream",
     "text": [
      "2.3\n",
      "3.4\n",
      "4.5\n",
      "2.3\n"
     ]
    }
   ],
   "source": [
    "for v in d1.values():\n",
    "    print(v)"
   ]
  },
  {
   "cell_type": "markdown",
   "id": "ad977c36",
   "metadata": {},
   "source": [
    "### 8.items()"
   ]
  },
  {
   "cell_type": "markdown",
   "id": "4a8a11a9",
   "metadata": {},
   "source": [
    "* Syntax:    dict.items()\n",
    "\t\t\t(OR)\n",
    "*  \t\tvarname=dictobj.items()\n",
    "* This function is used for obtaining Values of (Key,Value) and stored in varname and It is an object of \n",
    "     <class,dict-items> \t\t\n"
   ]
  },
  {
   "cell_type": "code",
   "execution_count": 152,
   "id": "fe04e40f",
   "metadata": {},
   "outputs": [
    {
     "name": "stdout",
     "output_type": "stream",
     "text": [
      "{10: 2.3, 20: 3.4, 30: 4.5, 40: 2.3} <class 'dict'> 2252268698880\n"
     ]
    }
   ],
   "source": [
    "d1={10:2.3,20:3.4,30:4.5,40:2.3}\n",
    "print(d1,type(d1),id(d1))"
   ]
  },
  {
   "cell_type": "code",
   "execution_count": 153,
   "id": "54895087",
   "metadata": {},
   "outputs": [
    {
     "name": "stdout",
     "output_type": "stream",
     "text": [
      "dict_items([(10, 2.3), (20, 3.4), (30, 4.5), (40, 2.3)]) <class 'dict_items'>\n"
     ]
    }
   ],
   "source": [
    "kvs=d1.items()\n",
    "print(kvs,type(kvs))"
   ]
  },
  {
   "cell_type": "code",
   "execution_count": 154,
   "id": "7fddd9ab",
   "metadata": {},
   "outputs": [
    {
     "name": "stdout",
     "output_type": "stream",
     "text": [
      "(10, 2.3)\n",
      "(20, 3.4)\n",
      "(30, 4.5)\n",
      "(40, 2.3)\n"
     ]
    }
   ],
   "source": [
    "for k in kvs:\n",
    "    print(k)"
   ]
  },
  {
   "cell_type": "code",
   "execution_count": 155,
   "id": "65569be1",
   "metadata": {},
   "outputs": [
    {
     "name": "stdout",
     "output_type": "stream",
     "text": [
      "(10, 2.3)\n",
      "(20, 3.4)\n",
      "(30, 4.5)\n",
      "(40, 2.3)\n"
     ]
    }
   ],
   "source": [
    "for k in d1.items():\n",
    "    print(k)"
   ]
  },
  {
   "cell_type": "markdown",
   "id": "dda62811",
   "metadata": {},
   "source": [
    "### 9. update()"
   ]
  },
  {
   "cell_type": "markdown",
   "id": "889e5515",
   "metadata": {},
   "source": [
    "* Syntax:    dictobj1.update(dictobj2)\n",
    "\n",
    "* This Function is used for updating the dictobj1 values with dict object2 values.\n"
   ]
  },
  {
   "cell_type": "code",
   "execution_count": 156,
   "id": "13b3223a",
   "metadata": {},
   "outputs": [
    {
     "name": "stdout",
     "output_type": "stream",
     "text": [
      "{10: 2.3, 20: 3.4} <class 'dict'>\n",
      "{50: 5.5, 60: 3.4} <class 'dict'>\n"
     ]
    }
   ],
   "source": [
    "d1={10:2.3,20:3.4}\n",
    "d2={50:5.5,60:3.4}\n",
    "print(d1,type(d1))\n",
    "print(d2,type(d2))\n"
   ]
  },
  {
   "cell_type": "code",
   "execution_count": 157,
   "id": "a75f5f97",
   "metadata": {},
   "outputs": [],
   "source": [
    "d1.update(d2)"
   ]
  },
  {
   "cell_type": "code",
   "execution_count": 158,
   "id": "d1fd2a67",
   "metadata": {},
   "outputs": [
    {
     "name": "stdout",
     "output_type": "stream",
     "text": [
      "{10: 2.3, 20: 3.4, 50: 5.5, 60: 3.4} <class 'dict'>\n"
     ]
    }
   ],
   "source": [
    "print(d1,type(d1))\n"
   ]
  },
  {
   "cell_type": "code",
   "execution_count": 159,
   "id": "95d1a15e",
   "metadata": {},
   "outputs": [
    {
     "name": "stdout",
     "output_type": "stream",
     "text": [
      "{50: 5.5, 60: 3.4} <class 'dict'>\n"
     ]
    }
   ],
   "source": [
    "print(d2,type(d2))\n"
   ]
  },
  {
   "cell_type": "code",
   "execution_count": 160,
   "id": "61df2142",
   "metadata": {},
   "outputs": [
    {
     "name": "stdout",
     "output_type": "stream",
     "text": [
      "{10: 2.3, 20: 3.4} <class 'dict'>\n",
      "{20: 5.5, 60: 3.4} <class 'dict'>\n"
     ]
    }
   ],
   "source": [
    "d1={10:2.3,20:3.4}\n",
    "d2={20:5.5,60:3.4}\n",
    "print(d1,type(d1))\n",
    "print(d2,type(d2)) "
   ]
  },
  {
   "cell_type": "code",
   "execution_count": 161,
   "id": "6205328c",
   "metadata": {},
   "outputs": [],
   "source": [
    "d1.update(d2)"
   ]
  },
  {
   "cell_type": "code",
   "execution_count": 162,
   "id": "d7532d0e",
   "metadata": {},
   "outputs": [
    {
     "name": "stdout",
     "output_type": "stream",
     "text": [
      "{10: 2.3, 20: 5.5, 60: 3.4} <class 'dict'>\n"
     ]
    }
   ],
   "source": [
    "print(d1,type(d1))"
   ]
  },
  {
   "cell_type": "markdown",
   "id": "277db070",
   "metadata": {},
   "source": [
    "**dict in dict**"
   ]
  },
  {
   "cell_type": "code",
   "execution_count": 163,
   "id": "66bb328d",
   "metadata": {},
   "outputs": [
    {
     "name": "stdout",
     "output_type": "stream",
     "text": [
      "{'sno': 10, 'sname': 'RS', 'InternalMarks': {'CM': 17, 'C++': 18, 'PYTHON': 17}, 'ExternalMarks': {'CM': 77, 'C++': 66, 'PYTHON': 78}, 'Cname': 'OUCET'} <class 'dict'>\n"
     ]
    }
   ],
   "source": [
    "d1={\"sno\":10,\"sname\":\"RS\",\"InternalMarks\":{\"CM\":17,\"C++\":18,\"PYTHON\":17},\"ExternalMarks\":{\"CM\":77,\"C++\":66,\"PYTHON\":78},\"Cname\":\"OUCET\"}\n",
    "print(d1,type(d1))"
   ]
  },
  {
   "cell_type": "code",
   "execution_count": 164,
   "id": "54f84095",
   "metadata": {},
   "outputs": [
    {
     "name": "stdout",
     "output_type": "stream",
     "text": [
      "sno ------> 10\n",
      "sname ------> RS\n",
      "InternalMarks ------> {'CM': 17, 'C++': 18, 'PYTHON': 17}\n",
      "ExternalMarks ------> {'CM': 77, 'C++': 66, 'PYTHON': 78}\n",
      "Cname ------> OUCET\n"
     ]
    }
   ],
   "source": [
    "for k,v in d1.items():\n",
    "    print(k,'------>',v)"
   ]
  },
  {
   "cell_type": "code",
   "execution_count": 166,
   "id": "04c683e1",
   "metadata": {},
   "outputs": [
    {
     "data": {
      "text/plain": [
       "{'CM': 17, 'C++': 18, 'PYTHON': 17}"
      ]
     },
     "execution_count": 166,
     "metadata": {},
     "output_type": "execute_result"
    }
   ],
   "source": [
    "d1.get('InternalMarks')"
   ]
  },
  {
   "cell_type": "code",
   "execution_count": 168,
   "id": "1f8c7441",
   "metadata": {},
   "outputs": [
    {
     "name": "stdout",
     "output_type": "stream",
     "text": [
      "CM\n",
      "C++\n",
      "PYTHON\n"
     ]
    }
   ],
   "source": [
    "for k in d1.get('InternalMarks'):\n",
    "    print(k)"
   ]
  },
  {
   "cell_type": "code",
   "execution_count": 170,
   "id": "a9d1f223",
   "metadata": {},
   "outputs": [
    {
     "name": "stdout",
     "output_type": "stream",
     "text": [
      "CM\n",
      "C++\n",
      "PYTHON\n"
     ]
    }
   ],
   "source": [
    "for k in d1.get('InternalMarks').keys():\n",
    "    print(k)"
   ]
  },
  {
   "cell_type": "code",
   "execution_count": 171,
   "id": "f18903c9",
   "metadata": {},
   "outputs": [
    {
     "name": "stdout",
     "output_type": "stream",
     "text": [
      "CM ---> 17\n",
      "C++ ---> 18\n",
      "PYTHON ---> 17\n"
     ]
    }
   ],
   "source": [
    "for k in d1.get(\"InternalMarks\").keys():\n",
    "    print(k,\"--->\",d1.get(\"InternalMarks\").get(k))\n"
   ]
  },
  {
   "cell_type": "markdown",
   "id": "b6f31d48",
   "metadata": {},
   "source": [
    "#### list in dict"
   ]
  },
  {
   "cell_type": "code",
   "execution_count": 172,
   "id": "aec09309",
   "metadata": {},
   "outputs": [
    {
     "name": "stdout",
     "output_type": "stream",
     "text": [
      "{'sno': 10, 'sname': 'RS', 'crs1': ['Python', 'Dsc', 'Django'], 'crs2': ['Java', 'C', 'C++'], 'Cname': 'OUCET'} <class 'dict'>\n"
     ]
    }
   ],
   "source": [
    "d1={\"sno\":10,\"sname\":\"RS\",\"crs1\":[\"Python\",\"Dsc\",\"Django\"],\"crs2\":[\"Java\",\"C\",\"C++\"],\"Cname\":\"OUCET\"}\n",
    "print(d1,type(d1))"
   ]
  },
  {
   "cell_type": "code",
   "execution_count": 175,
   "id": "09a71d19",
   "metadata": {},
   "outputs": [
    {
     "name": "stdout",
     "output_type": "stream",
     "text": [
      "sno ---> 10\n",
      "sname ---> RS\n",
      "crs1 ---> ['Python', 'Dsc', 'Django']\n",
      "crs2 ---> ['Java', 'C', 'C++']\n",
      "Cname ---> OUCET\n"
     ]
    }
   ],
   "source": [
    "for k,v in d1.items():\n",
    "    print(k,'--->',v)"
   ]
  },
  {
   "cell_type": "code",
   "execution_count": 177,
   "id": "b8770996",
   "metadata": {},
   "outputs": [
    {
     "name": "stdout",
     "output_type": "stream",
     "text": [
      "{'sno': 10, 'sname': 'RS', 'crs1': ['Python', 'Dsc', 'Django'], 'crs2': ['Java', 'C', 'C++'], 'Cname': 'OUCET'} <class 'dict'>\n"
     ]
    }
   ],
   "source": [
    "d1={\"sno\":10,\"sname\":\"RS\",\"crs1\":[\"Python\",\"Dsc\",\"Django\"],\"crs2\":[\"Java\",\"C\",\"C++\"],\"Cname\":\"OUCET\"}\n",
    "print(d1,type(d1))"
   ]
  },
  {
   "cell_type": "code",
   "execution_count": 178,
   "id": "f4829c1d",
   "metadata": {},
   "outputs": [
    {
     "data": {
      "text/plain": [
       "['Python', 'Dsc', 'Django']"
      ]
     },
     "execution_count": 178,
     "metadata": {},
     "output_type": "execute_result"
    }
   ],
   "source": [
    "d1['crs1']"
   ]
  },
  {
   "cell_type": "code",
   "execution_count": 179,
   "id": "83615ac5",
   "metadata": {},
   "outputs": [
    {
     "data": {
      "text/plain": [
       "'Python'"
      ]
     },
     "execution_count": 179,
     "metadata": {},
     "output_type": "execute_result"
    }
   ],
   "source": [
    "d1['crs1'][0]"
   ]
  },
  {
   "cell_type": "code",
   "execution_count": 180,
   "id": "e0108d7a",
   "metadata": {},
   "outputs": [],
   "source": [
    "d1.get('crs1')[0]='ds'"
   ]
  },
  {
   "cell_type": "code",
   "execution_count": 181,
   "id": "00a4aa9a",
   "metadata": {},
   "outputs": [
    {
     "data": {
      "text/plain": [
       "{'sno': 10,\n",
       " 'sname': 'RS',\n",
       " 'crs1': ['ds', 'Dsc', 'Django'],\n",
       " 'crs2': ['Java', 'C', 'C++'],\n",
       " 'Cname': 'OUCET'}"
      ]
     },
     "execution_count": 181,
     "metadata": {},
     "output_type": "execute_result"
    }
   ],
   "source": [
    "d1"
   ]
  },
  {
   "cell_type": "code",
   "execution_count": 182,
   "id": "d83eaf00",
   "metadata": {},
   "outputs": [
    {
     "name": "stdout",
     "output_type": "stream",
     "text": [
      "{'sno': 10, 'sname': 'RS', 'crs1': ('Python', 'Dsc', 'Django'), 'crs2': ('Java', 'C', 'C++'), 'Cname': 'OUCET'} <class 'dict'>\n",
      "sno ==> 10\n",
      "sname ==> RS\n",
      "crs1 ==> ('Python', 'Dsc', 'Django')\n",
      "crs2 ==> ('Java', 'C', 'C++')\n",
      "Cname ==> OUCET\n"
     ]
    }
   ],
   "source": [
    "d1={\"sno\":10,\"sname\":\"RS\",\"crs1\":(\"Python\",\"Dsc\",\"Django\"),\"crs2\":(\"Java\",\"C\",\"C++\"),\"Cname\":\"OUCET\"}\n",
    "print(d1,type(d1))\n",
    "for k,v in d1.items():\n",
    "     print(k,\"==>\",v)\n"
   ]
  },
  {
   "cell_type": "markdown",
   "id": "09383c8a",
   "metadata": {},
   "source": [
    "### set in dict"
   ]
  },
  {
   "cell_type": "code",
   "execution_count": 183,
   "id": "208da7e3",
   "metadata": {},
   "outputs": [
    {
     "name": "stdout",
     "output_type": "stream",
     "text": [
      "sno ==> 10\n",
      "sname ==> RS\n",
      "crs1 ==> {'Dsc', 'Django', 'Python'}\n",
      "crs2 ==> {'C', 'Java', 'C++'}\n",
      "Cname ==> OUCET\n"
     ]
    }
   ],
   "source": [
    "d1={\"sno\":10,\"sname\":\"RS\",\"crs1\":{\"Python\",\"Dsc\",\"Django\"},\"crs2\":{\"Java\",\"C\",\"C++\"},\"Cname\":\"OUCET\"}\n",
    "for k,v in d1.items():\n",
    "    print(k,\"==>\",v)\n"
   ]
  },
  {
   "cell_type": "markdown",
   "id": "e4077b87",
   "metadata": {},
   "source": [
    "### dict in list"
   ]
  },
  {
   "cell_type": "code",
   "execution_count": 184,
   "id": "13ea4527",
   "metadata": {},
   "outputs": [
    {
     "name": "stdout",
     "output_type": "stream",
     "text": [
      "10 <class 'int'> <class 'list'>\n",
      "Rossum <class 'str'> <class 'list'>\n",
      "{'CM': 17, 'Java': 56} <class 'dict'> <class 'list'>\n",
      "{'Python': 56, 'Dsc': 34} <class 'dict'> <class 'list'>\n",
      "OUCET <class 'str'> <class 'list'>\n"
     ]
    }
   ],
   "source": [
    "l1=[10,\"Rossum\",{\"CM\":17,\"Java\":56},{\"Python\":56,\"Dsc\":34},\"OUCET\"]\n",
    "for val in l1:\n",
    "    print(val,type(val),type(l1))\n"
   ]
  },
  {
   "cell_type": "markdown",
   "id": "3f309de4",
   "metadata": {},
   "source": [
    "### dict in tuple"
   ]
  },
  {
   "cell_type": "code",
   "execution_count": 185,
   "id": "438d05a3",
   "metadata": {},
   "outputs": [
    {
     "name": "stdout",
     "output_type": "stream",
     "text": [
      "10 <class 'int'> <class 'tuple'>\n",
      "Rossum <class 'str'> <class 'tuple'>\n",
      "{'CM': 17, 'Java': 56} <class 'dict'> <class 'tuple'>\n",
      "{'Python': 56, 'Dsc': 34} <class 'dict'> <class 'tuple'>\n",
      "OUCET <class 'str'> <class 'tuple'>\n"
     ]
    }
   ],
   "source": [
    "t1=(10,\"Rossum\",{\"CM\":17,\"Java\":56},{\"Python\":56,\"Dsc\":34},\"OUCET\")\n",
    "for val in t1:\n",
    "    print(val,type(val),type(t1))\n"
   ]
  },
  {
   "cell_type": "markdown",
   "id": "4745dd07",
   "metadata": {},
   "source": [
    "### dict in set"
   ]
  },
  {
   "cell_type": "code",
   "execution_count": 186,
   "id": "2db8ed27",
   "metadata": {},
   "outputs": [
    {
     "ename": "TypeError",
     "evalue": "unhashable type: 'dict'",
     "output_type": "error",
     "traceback": [
      "\u001b[1;31m---------------------------------------------------------------------------\u001b[0m",
      "\u001b[1;31mTypeError\u001b[0m                                 Traceback (most recent call last)",
      "\u001b[1;32m~\\AppData\\Local\\Temp\\ipykernel_20468\\3600851884.py\u001b[0m in \u001b[0;36m<module>\u001b[1;34m\u001b[0m\n\u001b[1;32m----> 1\u001b[1;33m \u001b[0ms1\u001b[0m\u001b[1;33m=\u001b[0m\u001b[1;33m{\u001b[0m\u001b[1;36m10\u001b[0m\u001b[1;33m,\u001b[0m\u001b[1;34m\"Rossum\"\u001b[0m\u001b[1;33m,\u001b[0m\u001b[1;33m{\u001b[0m\u001b[1;34m\"CM\"\u001b[0m\u001b[1;33m:\u001b[0m\u001b[1;36m17\u001b[0m\u001b[1;33m,\u001b[0m\u001b[1;34m\"Java\"\u001b[0m\u001b[1;33m:\u001b[0m\u001b[1;36m56\u001b[0m\u001b[1;33m}\u001b[0m\u001b[1;33m,\u001b[0m\u001b[1;33m{\u001b[0m\u001b[1;34m\"Python\"\u001b[0m\u001b[1;33m:\u001b[0m\u001b[1;36m56\u001b[0m\u001b[1;33m,\u001b[0m\u001b[1;34m\"Dsc\"\u001b[0m\u001b[1;33m:\u001b[0m\u001b[1;36m34\u001b[0m\u001b[1;33m}\u001b[0m\u001b[1;33m,\u001b[0m\u001b[1;34m\"OUCET\"\u001b[0m\u001b[1;33m}\u001b[0m\u001b[1;33m\u001b[0m\u001b[1;33m\u001b[0m\u001b[0m\n\u001b[0m\u001b[0;32m      2\u001b[0m \u001b[0mprint\u001b[0m\u001b[1;33m(\u001b[0m\u001b[0ms1\u001b[0m\u001b[1;33m,\u001b[0m\u001b[0mtype\u001b[0m\u001b[1;33m(\u001b[0m\u001b[0ms1\u001b[0m\u001b[1;33m)\u001b[0m\u001b[1;33m)\u001b[0m\u001b[1;33m\u001b[0m\u001b[1;33m\u001b[0m\u001b[0m\n",
      "\u001b[1;31mTypeError\u001b[0m: unhashable type: 'dict'"
     ]
    }
   ],
   "source": [
    "s1={10,\"Rossum\",{\"CM\":17,\"Java\":56},{\"Python\":56,\"Dsc\":34},\"OUCET\"}\n",
    "print(s1,type(s1))"
   ]
  },
  {
   "cell_type": "code",
   "execution_count": null,
   "id": "a9eeca8f",
   "metadata": {},
   "outputs": [],
   "source": []
  }
 ],
 "metadata": {
  "kernelspec": {
   "display_name": "Python 3 (ipykernel)",
   "language": "python",
   "name": "python3"
  },
  "language_info": {
   "codemirror_mode": {
    "name": "ipython",
    "version": 3
   },
   "file_extension": ".py",
   "mimetype": "text/x-python",
   "name": "python",
   "nbconvert_exporter": "python",
   "pygments_lexer": "ipython3",
   "version": "3.9.13"
  }
 },
 "nbformat": 4,
 "nbformat_minor": 5
}
